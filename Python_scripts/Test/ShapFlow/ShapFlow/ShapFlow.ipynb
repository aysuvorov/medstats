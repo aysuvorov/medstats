{
 "cells": [
  {
   "cell_type": "code",
   "execution_count": 1,
   "metadata": {},
   "outputs": [
    {
     "ename": "ModuleNotFoundError",
     "evalue": "No module named 'pandas'",
     "output_type": "error",
     "traceback": [
      "\u001b[0;31m---------------------------------------------------------------------------\u001b[0m",
      "\u001b[0;31mModuleNotFoundError\u001b[0m                       Traceback (most recent call last)",
      "\u001b[1;32m/home/guest/Yandex.Disk/GitHub/ShapFlow/ShapFlow/ShapFlow.ipynb Cell 1\u001b[0m in \u001b[0;36m<cell line: 1>\u001b[0;34m()\u001b[0m\n\u001b[0;32m----> <a href='vscode-notebook-cell:/home/guest/Yandex.Disk/GitHub/ShapFlow/ShapFlow/ShapFlow.ipynb#ch0000000?line=0'>1</a>\u001b[0m \u001b[39mimport\u001b[39;00m \u001b[39mpandas\u001b[39;00m \u001b[39mas\u001b[39;00m \u001b[39mpd\u001b[39;00m\n\u001b[1;32m      <a href='vscode-notebook-cell:/home/guest/Yandex.Disk/GitHub/ShapFlow/ShapFlow/ShapFlow.ipynb#ch0000000?line=1'>2</a>\u001b[0m \u001b[39mimport\u001b[39;00m \u001b[39myaml\u001b[39;00m\n\u001b[1;32m      <a href='vscode-notebook-cell:/home/guest/Yandex.Disk/GitHub/ShapFlow/ShapFlow/ShapFlow.ipynb#ch0000000?line=2'>3</a>\u001b[0m \u001b[39mimport\u001b[39;00m \u001b[39mxgboost\u001b[39;00m\n",
      "\u001b[0;31mModuleNotFoundError\u001b[0m: No module named 'pandas'"
     ]
    }
   ],
   "source": [
    "import pandas as pd\n",
    "import yaml\n",
    "import xgboost\n",
    "import warnings\n",
    "\n",
    "from sklearn.model_selection import train_test_split\n",
    "from sklearn.preprocessing import StandardScaler\n",
    "\n",
    "# +-----------------------------------------------------------------------------\n",
    "\n",
    "from workers.flow import Node, CreditFlow, Graph, get_source_nodes, topo_sort, \\\n",
    "    flatten_graph, eval_graph, boundary_graph, single_source_graph, viz_graph, \\\n",
    "        save_graph, hcluster_graph\n",
    "from workers.flow import ParallelCreditFlow, GraphExplainer, translator\n",
    "from workers.flow import group_nodes, build_feature_graph\n",
    "from workers.flow import CausalLinks, create_xgboost_f, create_linear_f\n",
    "from workers.flow import edge_credits2edge_credit\n",
    "from workers.on_manifold import OnManifoldExplainer, IndExplainer, \\\n",
    "    FeatureAttribution\n",
    "from workers.linear_evaluation import get_error, get_indirect_effect_flow, \\\n",
    "    get_effect_asv, get_effect_ind, get_effect_manifold, get_direct_effect_flow\n",
    "from workers.linear_evaluation import get_direct_effect_ground_truth, \\\n",
    "    get_indirect_effect_ground_truth\n",
    "\n",
    "# +-----------------------------------------------------------------------------\n",
    "warnings.filterwarnings('ignore')"
   ]
  },
  {
   "cell_type": "code",
   "execution_count": 41,
   "metadata": {},
   "outputs": [],
   "source": [
    "# +-----------------------------------------------------------------------------\n",
    "# Загрузка параметров вручную, т.к. у меня эта была другая \"тестовая\" среда\n",
    "\n",
    "with open(\n",
    "    '../ShapFlow//config/config.yaml', \\\n",
    "        'rb') as f:\n",
    "    cfg = yaml.safe_load(f.read())\n",
    "\n",
    "X = pd.read_pickle(cfg['PATH_TO_X'])\n",
    "Y = pd.read_pickle(cfg['PATH_TO_Y'])\n",
    "RS = cfg['RANDOM_STATE']\n",
    "OPTUNA_TRIAL_NUMBER = cfg['OPTUNA_TRIAL_NUMBER']\n",
    "STRATIFY = cfg['STRATIFY']\n",
    "CLASS_WEIGHT = dict(cfg['CLASS_WEIGHT'])\n",
    "N_PREDICTORS = cfg['N_PREDICTORS']\n",
    "BALANCED = cfg['BALANCED']\n",
    "PATH_TO_OUTPUT = cfg['PATH_TO_OUTPUT']\n",
    "PATH_TO_PLOT = cfg['PATH_TO_PLOT']\n",
    "SCORER = cfg['SCORER']\n",
    "TEST_SIZE = cfg['TEST_SIZE']\n",
    "\n",
    "# Наши предикторы:\n",
    "\n",
    "PREDICTORS= [\n",
    "    'Время ИК', \n",
    "    'Hb до операции', \n",
    "    'ИМТ', \n",
    "    'КДР(исх)', \n",
    "    'ФК аортального клапана', \n",
    "    'НРС д/о  (1-есть,0-нет)', \n",
    "    'Пиковый градиент на АК д/о', \n",
    "    'Стеноз -1, недостаточность-0', \n",
    "    'Время пережатия аорты', \n",
    "    'POAF', \n",
    "    'ИБС (Да/Нет - 1/0)', \n",
    "    'Возраст, лет', \n",
    "    'Перенесенный ИМ (Да/Нет - 1/0)', \n",
    "    'ФП д/о', \n",
    "    'ППС Порок МК (Да/Нет - 1/0)'\n",
    "    ]"
   ]
  },
  {
   "cell_type": "code",
   "execution_count": 25,
   "metadata": {},
   "outputs": [
    {
     "data": {
      "text/plain": [
       "'/home/guest/Yandex.Disk/GitHub/ShapFlow/ShapFlow'"
      ]
     },
     "execution_count": 25,
     "metadata": {},
     "output_type": "execute_result"
    }
   ],
   "source": [
    "\n"
   ]
  },
  {
   "cell_type": "code",
   "execution_count": 52,
   "metadata": {},
   "outputs": [
    {
     "name": "stdout",
     "output_type": "stream",
     "text": [
      "[09:54:38] WARNING: ../src/learner.cc:1115: Starting in XGBoost 1.3.0, the default evaluation metric used with the objective 'binary:logistic' was changed from 'error' to 'logloss'. Explicitly set eval_metric if you'd like to restore the old behavior.\n"
     ]
    }
   ],
   "source": [
    "# Стратифицированный сплит\n",
    "\n",
    "X_train, X_test, y_train, y_test = \\\n",
    "    train_test_split(\n",
    "                        X[PREDICTORS], \n",
    "                        Y, \n",
    "                        test_size=TEST_SIZE, \n",
    "                        random_state=RS,\n",
    "                        stratify=Y\n",
    "                    )\n",
    "\n",
    "# +-----------------------------------------------------------------------------\n",
    "# Вспоминаем, кто из переменных - категориальные  и делаем список с \n",
    "# вещественными переменными\n",
    "\n",
    "cat_lst = [x for x in X[PREDICTORS].columns if \\\n",
    "    pd.CategoricalDtype.is_dtype(X[x])==True]\n",
    "sc_lst = [col for col in X[PREDICTORS].columns if col not in cat_lst]\n",
    "\n",
    "# +-----------------------------------------------------------------------------\n",
    "# Нормализуем вещественные переменные\n",
    "\n",
    "sc = StandardScaler()\n",
    "\n",
    "X_train[sc_lst] = sc.fit_transform(X_train[sc_lst])\n",
    "X_test[sc_lst] = sc.transform(X_test[sc_lst])\n",
    "\n",
    "# +-----------------------------------------------------------------------------\n",
    "# У меня не получилось ни обозначить категориальные переменные в XGB, \n",
    "# ни заставить это работать через логистическую регрессию также с обозначение \n",
    "# категориальных переменных. Везде 0 получаются. Как-то работает через модель \n",
    "# LinearRegression\n",
    "# Т.е., основная цель предыдущего шага с нормализацией в таком контексте - \n",
    "# оставить нетронутыми (ненормализованными) бинарные переменные\n",
    "\n",
    "for col in X_train.columns:\n",
    "    X_train[col] = X_train[col].astype(float)\n",
    "\n",
    "for col in X_train.columns:\n",
    "    X_test[col] = X_test[col].astype(float)\n",
    "\n",
    "# +-----------------------------------------------------------------------------\n",
    "# Создание модели из xgboost\n",
    "\n",
    "xgb_train = xgboost.DMatrix(X_train, label=y_train)\n",
    "xgb_test = xgboost.DMatrix(X_test, label=y_test)\n",
    "\n",
    "params = {\n",
    "    \"eta\": 0.01,\n",
    "    \"max_depth\": 15,\n",
    "    'objective':'binary:logistic'\n",
    "}\n",
    "\n",
    "model = xgboost.train(\n",
    "    params, \n",
    "    xgb_train, \n",
    "    100, \n",
    "    evals = [(xgb_train, \"train\")], \n",
    "    verbose_eval=False)\n",
    "\n",
    "bg = X_train \n",
    "fg = X_test\n",
    "\n",
    "# +-----------------------------------------------------------------------------\n",
    "# Создание f-функции\n",
    "\n",
    "f = lambda x: model.predict(xgboost.DMatrix(pd.DataFrame(x, \n",
    "    columns=feature_names)), output_margin=True)"
   ]
  },
  {
   "cell_type": "code",
   "execution_count": 53,
   "metadata": {},
   "outputs": [
    {
     "name": "stderr",
     "output_type": "stream",
     "text": [
      "learning dependency for POAF:   0%|          | 0/10 [00:00<?, ?it/s]"
     ]
    },
    {
     "name": "stdout",
     "output_type": "stream",
     "text": [
      "[0]\ttest-rmse:0.49958\n",
      "[100]\ttest-rmse:0.45698\n",
      "[200]\ttest-rmse:0.42480\n",
      "[300]\ttest-rmse:0.40158\n",
      "[400]\ttest-rmse:0.38531\n",
      "[499]\ttest-rmse:0.37373\n"
     ]
    },
    {
     "name": "stderr",
     "output_type": "stream",
     "text": [
      "learning dependency for КДР(исх):  10%|█         | 1/10 [00:17<02:41, 17.94s/it]"
     ]
    },
    {
     "name": "stdout",
     "output_type": "stream",
     "text": [
      "[0]\ttest-rmse:1.15038\n",
      "[100]\ttest-rmse:1.11367\n",
      "[200]\ttest-rmse:1.08854\n",
      "[300]\ttest-rmse:1.07017\n",
      "[400]\ttest-rmse:1.05749\n",
      "[499]\ttest-rmse:1.05008\n"
     ]
    },
    {
     "name": "stderr",
     "output_type": "stream",
     "text": [
      "learning dependency for ППС Порок МК (Да/Нет - 1/0):  20%|██        | 2/10 [00:29<01:53, 14.20s/it]"
     ]
    },
    {
     "name": "stdout",
     "output_type": "stream",
     "text": [
      "[0]\ttest-rmse:0.49934\n",
      "[100]\ttest-rmse:0.44059\n",
      "[200]\ttest-rmse:0.39663\n",
      "[300]\ttest-rmse:0.36398\n",
      "[400]\ttest-rmse:0.34095\n",
      "[499]\ttest-rmse:0.32480\n"
     ]
    },
    {
     "name": "stderr",
     "output_type": "stream",
     "text": [
      "learning dependency for Время пережатия аорты:  30%|███       | 3/10 [00:44<01:43, 14.75s/it]      "
     ]
    },
    {
     "name": "stdout",
     "output_type": "stream",
     "text": [
      "[0]\ttest-rmse:1.06394\n",
      "[100]\ttest-rmse:0.96309\n",
      "[200]\ttest-rmse:0.88954\n",
      "[300]\ttest-rmse:0.84203\n",
      "[400]\ttest-rmse:0.81211\n",
      "[499]\ttest-rmse:0.79302\n"
     ]
    },
    {
     "name": "stderr",
     "output_type": "stream",
     "text": [
      "learning dependency for ФП д/о:  40%|████      | 4/10 [00:52<01:11, 11.91s/it]               "
     ]
    },
    {
     "name": "stdout",
     "output_type": "stream",
     "text": [
      "[0]\ttest-rmse:0.49933\n",
      "[100]\ttest-rmse:0.44382\n",
      "[200]\ttest-rmse:0.40216\n",
      "[300]\ttest-rmse:0.37226\n",
      "[400]\ttest-rmse:0.35054\n",
      "[499]\ttest-rmse:0.33574\n"
     ]
    },
    {
     "name": "stderr",
     "output_type": "stream",
     "text": [
      "learning dependency for Пиковый градиент на АК д/о:  50%|█████     | 5/10 [00:57<00:47,  9.52s/it]"
     ]
    },
    {
     "name": "stdout",
     "output_type": "stream",
     "text": [
      "[0]\ttest-rmse:1.18016\n",
      "[100]\ttest-rmse:1.04514\n",
      "[200]\ttest-rmse:0.94294\n",
      "[300]\ttest-rmse:0.86748\n",
      "[400]\ttest-rmse:0.81279\n",
      "[499]\ttest-rmse:0.77365\n"
     ]
    },
    {
     "name": "stderr",
     "output_type": "stream",
     "text": [
      "learning dependency for ФК аортального клапана:  60%|██████    | 6/10 [01:05<00:35,  8.91s/it]    "
     ]
    },
    {
     "name": "stdout",
     "output_type": "stream",
     "text": [
      "[0]\ttest-rmse:1.06549\n",
      "[100]\ttest-rmse:0.98633\n",
      "[200]\ttest-rmse:0.92764\n",
      "[300]\ttest-rmse:0.88427\n",
      "[400]\ttest-rmse:0.85292\n",
      "[499]\ttest-rmse:0.83120\n"
     ]
    },
    {
     "name": "stderr",
     "output_type": "stream",
     "text": [
      "learning dependency for Время ИК:  70%|███████   | 7/10 [01:10<00:22,  7.59s/it]              "
     ]
    },
    {
     "name": "stdout",
     "output_type": "stream",
     "text": [
      "[0]\ttest-rmse:1.27781\n",
      "[100]\ttest-rmse:1.24997\n",
      "[200]\ttest-rmse:1.23313\n",
      "[300]\ttest-rmse:1.22223\n",
      "[400]\ttest-rmse:1.21703\n",
      "[499]\ttest-rmse:1.21453\n"
     ]
    },
    {
     "name": "stderr",
     "output_type": "stream",
     "text": [
      "learning dependency for НРС д/о  (1-есть,0-нет):  80%|████████  | 8/10 [01:25<00:19,  9.92s/it]"
     ]
    },
    {
     "name": "stdout",
     "output_type": "stream",
     "text": [
      "[0]\ttest-rmse:0.49984\n",
      "[100]\ttest-rmse:0.48444\n",
      "[200]\ttest-rmse:0.47466\n",
      "[300]\ttest-rmse:0.46836\n",
      "[400]\ttest-rmse:0.46452\n",
      "[499]\ttest-rmse:0.46257\n"
     ]
    },
    {
     "name": "stderr",
     "output_type": "stream",
     "text": [
      "learning dependency for Перенесенный ИМ (Да/Нет - 1/0):  90%|█████████ | 9/10 [01:34<00:09,  9.68s/it]"
     ]
    },
    {
     "name": "stdout",
     "output_type": "stream",
     "text": [
      "[0]\ttest-rmse:0.49922\n",
      "[100]\ttest-rmse:0.42821\n",
      "[200]\ttest-rmse:0.37222\n",
      "[300]\ttest-rmse:0.32805\n",
      "[400]\ttest-rmse:0.29445\n",
      "[499]\ttest-rmse:0.26923\n"
     ]
    },
    {
     "name": "stderr",
     "output_type": "stream",
     "text": [
      "learning dependency for Перенесенный ИМ (Да/Нет - 1/0): 100%|██████████| 10/10 [01:47<00:00, 10.71s/it]\n"
     ]
    },
    {
     "data": {
      "image/svg+xml": "<?xml version=\"1.0\" encoding=\"UTF-8\" standalone=\"no\"?>\n<!DOCTYPE svg PUBLIC \"-//W3C//DTD SVG 1.1//EN\"\n \"http://www.w3.org/Graphics/SVG/1.1/DTD/svg11.dtd\">\n<!-- Generated by graphviz version 3.0.0 (20220315.2325)\n -->\n<!-- Pages: 1 -->\n<svg width=\"2277pt\" height=\"332pt\"\n viewBox=\"0.00 0.00 2276.86 332.00\" xmlns=\"http://www.w3.org/2000/svg\" xmlns:xlink=\"http://www.w3.org/1999/xlink\">\n<g id=\"graph0\" class=\"graph\" transform=\"scale(1 1) rotate(0) translate(4 328)\">\n<polygon fill=\"white\" stroke=\"transparent\" points=\"-4,4 -4,-328 2272.86,-328 2272.86,4 -4,4\"/>\n<!-- ППС Порок МК (Да/Нет &#45; 1/0) -->\n<g id=\"node1\" class=\"node\">\n<title>ППС Порок МК (Да/Нет &#45; 1/0)</title>\n<ellipse fill=\"none\" stroke=\"black\" cx=\"766.41\" cy=\"-234\" rx=\"152.17\" ry=\"18\"/>\n<text text-anchor=\"middle\" x=\"766.41\" y=\"-230.3\" font-family=\"Times,serif\" font-size=\"14.00\">ППС Порок МК (Да/Нет &#45; 1/0)</text>\n</g>\n<!-- DEATH -->\n<g id=\"node2\" class=\"node\">\n<title>DEATH</title>\n<ellipse fill=\"none\" stroke=\"black\" cx=\"1615.41\" cy=\"-306\" rx=\"44.39\" ry=\"18\"/>\n<text text-anchor=\"middle\" x=\"1615.41\" y=\"-302.3\" font-family=\"Times,serif\" font-size=\"14.00\">DEATH</text>\n</g>\n<!-- ППС Порок МК (Да/Нет &#45; 1/0)&#45;&gt;DEATH -->\n<g id=\"edge1\" class=\"edge\">\n<title>ППС Порок МК (Да/Нет &#45; 1/0)&#45;&gt;DEATH</title>\n<path fill=\"none\" stroke=\"black\" d=\"M875.76,-246.58C894.65,-248.47 914.09,-250.35 932.41,-252 1166.74,-273.09 1446.77,-293.23 1561.93,-301.3\"/>\n<polygon fill=\"black\" stroke=\"black\" points=\"1562.01,-304.81 1572.23,-302.02 1562.5,-297.83 1562.01,-304.81\"/>\n</g>\n<!-- Стеноз &#45;1, недостаточность&#45;0 -->\n<g id=\"node3\" class=\"node\">\n<title>Стеноз &#45;1, недостаточность&#45;0</title>\n<ellipse fill=\"none\" stroke=\"black\" cx=\"320.41\" cy=\"-162\" rx=\"149.47\" ry=\"18\"/>\n<text text-anchor=\"middle\" x=\"320.41\" y=\"-158.3\" font-family=\"Times,serif\" font-size=\"14.00\">Стеноз &#45;1, недостаточность&#45;0</text>\n</g>\n<!-- Стеноз &#45;1, недостаточность&#45;0&#45;&gt;ППС Порок МК (Да/Нет &#45; 1/0) -->\n<g id=\"edge2\" class=\"edge\">\n<title>Стеноз &#45;1, недостаточность&#45;0&#45;&gt;ППС Порок МК (Да/Нет &#45; 1/0)</title>\n<path fill=\"none\" stroke=\"black\" d=\"M407.47,-176.66C482.43,-188.43 590.55,-205.4 668.51,-217.63\"/>\n<polygon fill=\"black\" stroke=\"black\" points=\"668.4,-221.16 678.82,-219.25 669.48,-214.24 668.4,-221.16\"/>\n</g>\n<!-- Стеноз &#45;1, недостаточность&#45;0&#45;&gt;DEATH -->\n<g id=\"edge5\" class=\"edge\">\n<title>Стеноз &#45;1, недостаточность&#45;0&#45;&gt;DEATH</title>\n<path fill=\"none\" stroke=\"black\" d=\"M174.11,-165.76C70.21,-172.61 -41.54,-193.13 15.41,-252 70.27,-308.7 1286.73,-306.51 1560.87,-305.29\"/>\n<polygon fill=\"black\" stroke=\"black\" points=\"1560.99,-308.79 1570.97,-305.25 1560.96,-301.79 1560.99,-308.79\"/>\n</g>\n<!-- Пиковый градиент на АК д/о -->\n<g id=\"node4\" class=\"node\">\n<title>Пиковый градиент на АК д/о</title>\n<ellipse fill=\"none\" stroke=\"black\" cx=\"172.41\" cy=\"-234\" rx=\"147.57\" ry=\"18\"/>\n<text text-anchor=\"middle\" x=\"172.41\" y=\"-230.3\" font-family=\"Times,serif\" font-size=\"14.00\">Пиковый градиент на АК д/о</text>\n</g>\n<!-- Стеноз &#45;1, недостаточность&#45;0&#45;&gt;Пиковый градиент на АК д/о -->\n<g id=\"edge3\" class=\"edge\">\n<title>Стеноз &#45;1, недостаточность&#45;0&#45;&gt;Пиковый градиент на АК д/о</title>\n<path fill=\"none\" stroke=\"black\" d=\"M285.34,-179.59C264.77,-189.32 238.59,-201.7 216.62,-212.09\"/>\n<polygon fill=\"black\" stroke=\"black\" points=\"215.04,-208.97 207.49,-216.41 218.03,-215.3 215.04,-208.97\"/>\n</g>\n<!-- ФК аортального клапана -->\n<g id=\"node5\" class=\"node\">\n<title>ФК аортального клапана</title>\n<ellipse fill=\"none\" stroke=\"black\" cx=\"467.41\" cy=\"-234\" rx=\"129.18\" ry=\"18\"/>\n<text text-anchor=\"middle\" x=\"467.41\" y=\"-230.3\" font-family=\"Times,serif\" font-size=\"14.00\">ФК аортального клапана</text>\n</g>\n<!-- Стеноз &#45;1, недостаточность&#45;0&#45;&gt;ФК аортального клапана -->\n<g id=\"edge4\" class=\"edge\">\n<title>Стеноз &#45;1, недостаточность&#45;0&#45;&gt;ФК аортального клапана</title>\n<path fill=\"none\" stroke=\"black\" d=\"M355.25,-179.59C375.75,-189.35 401.87,-201.79 423.74,-212.2\"/>\n<polygon fill=\"black\" stroke=\"black\" points=\"422.29,-215.39 432.83,-216.53 425.3,-209.07 422.29,-215.39\"/>\n</g>\n<!-- Пиковый градиент на АК д/о&#45;&gt;DEATH -->\n<g id=\"edge6\" class=\"edge\">\n<title>Пиковый градиент на АК д/о&#45;&gt;DEATH</title>\n<path fill=\"none\" stroke=\"black\" d=\"M274.51,-247.05C292.77,-248.92 311.64,-250.67 329.41,-252 805.98,-287.58 1383.8,-300.7 1561.1,-304.06\"/>\n<polygon fill=\"black\" stroke=\"black\" points=\"1561.15,-307.56 1571.21,-304.25 1561.28,-300.56 1561.15,-307.56\"/>\n</g>\n<!-- ФК аортального клапана&#45;&gt;DEATH -->\n<g id=\"edge7\" class=\"edge\">\n<title>ФК аортального клапана&#45;&gt;DEATH</title>\n<path fill=\"none\" stroke=\"black\" d=\"M557.14,-246.98C573.19,-248.86 589.78,-250.63 605.41,-252 969.68,-283.95 1409.67,-298.99 1561.13,-303.49\"/>\n<polygon fill=\"black\" stroke=\"black\" points=\"1561.43,-307 1571.53,-303.8 1561.64,-300 1561.43,-307\"/>\n</g>\n<!-- Перенесенный ИМ (Да/Нет &#45; 1/0) -->\n<g id=\"node6\" class=\"node\">\n<title>Перенесенный ИМ (Да/Нет &#45; 1/0)</title>\n<ellipse fill=\"none\" stroke=\"black\" cx=\"1142.41\" cy=\"-234\" rx=\"168.17\" ry=\"18\"/>\n<text text-anchor=\"middle\" x=\"1142.41\" y=\"-230.3\" font-family=\"Times,serif\" font-size=\"14.00\">Перенесенный ИМ (Да/Нет &#45; 1/0)</text>\n</g>\n<!-- Перенесенный ИМ (Да/Нет &#45; 1/0)&#45;&gt;DEATH -->\n<g id=\"edge8\" class=\"edge\">\n<title>Перенесенный ИМ (Да/Нет &#45; 1/0)&#45;&gt;DEATH</title>\n<path fill=\"none\" stroke=\"black\" d=\"M1236.71,-248.96C1335.24,-263.54 1486.14,-285.87 1564.39,-297.45\"/>\n<polygon fill=\"black\" stroke=\"black\" points=\"1564.08,-300.94 1574.48,-298.94 1565.1,-294.02 1564.08,-300.94\"/>\n</g>\n<!-- ИБС (Да/Нет &#45; 1/0) -->\n<g id=\"node7\" class=\"node\">\n<title>ИБС (Да/Нет &#45; 1/0)</title>\n<ellipse fill=\"none\" stroke=\"black\" cx=\"1044.41\" cy=\"-162\" rx=\"98.58\" ry=\"18\"/>\n<text text-anchor=\"middle\" x=\"1044.41\" y=\"-158.3\" font-family=\"Times,serif\" font-size=\"14.00\">ИБС (Да/Нет &#45; 1/0)</text>\n</g>\n<!-- ИБС (Да/Нет &#45; 1/0)&#45;&gt;DEATH -->\n<g id=\"edge10\" class=\"edge\">\n<title>ИБС (Да/Нет &#45; 1/0)&#45;&gt;DEATH</title>\n<path fill=\"none\" stroke=\"black\" d=\"M1006.22,-178.72C990.62,-187.28 974.2,-199.53 965.41,-216 957.88,-230.12 954.57,-240.24 965.41,-252 1005.41,-295.39 1411.41,-303.26 1560.71,-304.68\"/>\n<polygon fill=\"black\" stroke=\"black\" points=\"1560.97,-308.19 1571,-304.78 1561.04,-301.19 1560.97,-308.19\"/>\n</g>\n<!-- ИБС (Да/Нет &#45; 1/0)&#45;&gt;Перенесенный ИМ (Да/Нет &#45; 1/0) -->\n<g id=\"edge9\" class=\"edge\">\n<title>ИБС (Да/Нет &#45; 1/0)&#45;&gt;Перенесенный ИМ (Да/Нет &#45; 1/0)</title>\n<path fill=\"none\" stroke=\"black\" d=\"M1067.64,-179.59C1080.39,-188.7 1096.39,-200.13 1110.32,-210.08\"/>\n<polygon fill=\"black\" stroke=\"black\" points=\"1108.5,-213.08 1118.68,-216.04 1112.57,-207.38 1108.5,-213.08\"/>\n</g>\n<!-- Время ИК -->\n<g id=\"node8\" class=\"node\">\n<title>Время ИК</title>\n<ellipse fill=\"none\" stroke=\"black\" cx=\"1513.41\" cy=\"-162\" rx=\"59.59\" ry=\"18\"/>\n<text text-anchor=\"middle\" x=\"1513.41\" y=\"-158.3\" font-family=\"Times,serif\" font-size=\"14.00\">Время ИК</text>\n</g>\n<!-- Время ИК&#45;&gt;DEATH -->\n<g id=\"edge12\" class=\"edge\">\n<title>Время ИК&#45;&gt;DEATH</title>\n<path fill=\"none\" stroke=\"black\" d=\"M1547.22,-176.85C1564.48,-185.6 1584.33,-198.58 1596.41,-216 1608.97,-234.1 1613.48,-258.88 1614.99,-277.7\"/>\n<polygon fill=\"black\" stroke=\"black\" points=\"1611.5,-277.94 1615.56,-287.73 1618.49,-277.54 1611.5,-277.94\"/>\n</g>\n<!-- Время пережатия аорты -->\n<g id=\"node9\" class=\"node\">\n<title>Время пережатия аорты</title>\n<ellipse fill=\"none\" stroke=\"black\" cx=\"1458.41\" cy=\"-234\" rx=\"129.18\" ry=\"18\"/>\n<text text-anchor=\"middle\" x=\"1458.41\" y=\"-230.3\" font-family=\"Times,serif\" font-size=\"14.00\">Время пережатия аорты</text>\n</g>\n<!-- Время ИК&#45;&gt;Время пережатия аорты -->\n<g id=\"edge11\" class=\"edge\">\n<title>Время ИК&#45;&gt;Время пережатия аорты</title>\n<path fill=\"none\" stroke=\"black\" d=\"M1500.38,-179.59C1493.7,-188.09 1485.42,-198.63 1477.99,-208.09\"/>\n<polygon fill=\"black\" stroke=\"black\" points=\"1475.16,-206.02 1471.74,-216.04 1480.67,-210.34 1475.16,-206.02\"/>\n</g>\n<!-- Время пережатия аорты&#45;&gt;DEATH -->\n<g id=\"edge15\" class=\"edge\">\n<title>Время пережатия аорты&#45;&gt;DEATH</title>\n<path fill=\"none\" stroke=\"black\" d=\"M1495.22,-251.41C1519.98,-262.45 1552.52,-276.96 1577.5,-288.1\"/>\n<polygon fill=\"black\" stroke=\"black\" points=\"1576.11,-291.31 1586.67,-292.19 1578.96,-284.92 1576.11,-291.31\"/>\n</g>\n<!-- Возраст, лет -->\n<g id=\"node10\" class=\"node\">\n<title>Возраст, лет</title>\n<ellipse fill=\"none\" stroke=\"black\" cx=\"1513.41\" cy=\"-90\" rx=\"70.69\" ry=\"18\"/>\n<text text-anchor=\"middle\" x=\"1513.41\" y=\"-86.3\" font-family=\"Times,serif\" font-size=\"14.00\">Возраст, лет</text>\n</g>\n<!-- Возраст, лет&#45;&gt;DEATH -->\n<g id=\"edge14\" class=\"edge\">\n<title>Возраст, лет&#45;&gt;DEATH</title>\n<path fill=\"none\" stroke=\"black\" d=\"M1539.35,-106.76C1553.4,-116.25 1570.3,-129.32 1582.41,-144 1605.18,-171.6 1610.19,-181.18 1618.41,-216 1623.23,-236.41 1622.1,-260.17 1619.98,-278.01\"/>\n<polygon fill=\"black\" stroke=\"black\" points=\"1616.5,-277.62 1618.61,-288.01 1623.43,-278.57 1616.5,-277.62\"/>\n</g>\n<!-- Возраст, лет&#45;&gt;Время ИК -->\n<g id=\"edge13\" class=\"edge\">\n<title>Возраст, лет&#45;&gt;Время ИК</title>\n<path fill=\"none\" stroke=\"black\" d=\"M1513.41,-108.3C1513.41,-116.02 1513.41,-125.29 1513.41,-133.89\"/>\n<polygon fill=\"black\" stroke=\"black\" points=\"1509.91,-133.9 1513.41,-143.9 1516.91,-133.9 1509.91,-133.9\"/>\n</g>\n<!-- КДР(исх) -->\n<g id=\"node11\" class=\"node\">\n<title>КДР(исх)</title>\n<ellipse fill=\"none\" stroke=\"black\" cx=\"1986.41\" cy=\"-90\" rx=\"53.89\" ry=\"18\"/>\n<text text-anchor=\"middle\" x=\"1986.41\" y=\"-86.3\" font-family=\"Times,serif\" font-size=\"14.00\">КДР(исх)</text>\n</g>\n<!-- КДР(исх)&#45;&gt;DEATH -->\n<g id=\"edge16\" class=\"edge\">\n<title>КДР(исх)&#45;&gt;DEATH</title>\n<path fill=\"none\" stroke=\"black\" d=\"M1974.76,-107.59C1950.77,-140.45 1892.45,-213.95 1825.41,-252 1776.27,-279.9 1712.45,-293.31 1668.12,-299.62\"/>\n<polygon fill=\"black\" stroke=\"black\" points=\"1667.58,-296.17 1658.13,-300.97 1668.51,-303.1 1667.58,-296.17\"/>\n</g>\n<!-- ИМТ -->\n<g id=\"node12\" class=\"node\">\n<title>ИМТ</title>\n<ellipse fill=\"none\" stroke=\"black\" cx=\"1904.41\" cy=\"-18\" rx=\"33.6\" ry=\"18\"/>\n<text text-anchor=\"middle\" x=\"1904.41\" y=\"-14.3\" font-family=\"Times,serif\" font-size=\"14.00\">ИМТ</text>\n</g>\n<!-- ИМТ&#45;&gt;DEATH -->\n<g id=\"edge21\" class=\"edge\">\n<title>ИМТ&#45;&gt;DEATH</title>\n<path fill=\"none\" stroke=\"black\" d=\"M1938.01,-20.73C1972.44,-24.5 2024.38,-36.2 2049.41,-72 2058.58,-85.11 2056.42,-93.62 2049.41,-108 1979.58,-251.33 1769.01,-290.5 1669.12,-301.11\"/>\n<polygon fill=\"black\" stroke=\"black\" points=\"1668.54,-297.65 1658.94,-302.13 1669.24,-304.62 1668.54,-297.65\"/>\n</g>\n<!-- ИМТ&#45;&gt;КДР(исх) -->\n<g id=\"edge17\" class=\"edge\">\n<title>ИМТ&#45;&gt;КДР(исх)</title>\n<path fill=\"none\" stroke=\"black\" d=\"M1921.8,-33.85C1932.83,-43.26 1947.32,-55.63 1959.78,-66.27\"/>\n<polygon fill=\"black\" stroke=\"black\" points=\"1957.74,-69.13 1967.62,-72.96 1962.29,-63.8 1957.74,-69.13\"/>\n</g>\n<!-- НРС д/о &#160;(1&#45;есть,0&#45;нет) -->\n<g id=\"node13\" class=\"node\">\n<title>НРС д/о &#160;(1&#45;есть,0&#45;нет)</title>\n<ellipse fill=\"none\" stroke=\"black\" cx=\"1758.41\" cy=\"-90\" rx=\"117.78\" ry=\"18\"/>\n<text text-anchor=\"middle\" x=\"1758.41\" y=\"-86.3\" font-family=\"Times,serif\" font-size=\"14.00\">НРС д/о &#160;(1&#45;есть,0&#45;нет)</text>\n</g>\n<!-- ИМТ&#45;&gt;НРС д/о &#160;(1&#45;есть,0&#45;нет) -->\n<g id=\"edge18\" class=\"edge\">\n<title>ИМТ&#45;&gt;НРС д/о &#160;(1&#45;есть,0&#45;нет)</title>\n<path fill=\"none\" stroke=\"black\" d=\"M1879.98,-30.72C1858.65,-40.94 1827.2,-56.02 1801.63,-68.28\"/>\n<polygon fill=\"black\" stroke=\"black\" points=\"1800.01,-65.17 1792.51,-72.65 1803.04,-71.49 1800.01,-65.17\"/>\n</g>\n<!-- ФП д/о -->\n<g id=\"node14\" class=\"node\">\n<title>ФП д/о</title>\n<ellipse fill=\"none\" stroke=\"black\" cx=\"1824.41\" cy=\"-162\" rx=\"42.49\" ry=\"18\"/>\n<text text-anchor=\"middle\" x=\"1824.41\" y=\"-158.3\" font-family=\"Times,serif\" font-size=\"14.00\">ФП д/о</text>\n</g>\n<!-- ИМТ&#45;&gt;ФП д/о -->\n<g id=\"edge19\" class=\"edge\">\n<title>ИМТ&#45;&gt;ФП д/о</title>\n<path fill=\"none\" stroke=\"black\" d=\"M1903.94,-36.23C1902.72,-55.06 1898.66,-85.55 1885.41,-108 1877.97,-120.61 1866.46,-131.75 1855.43,-140.52\"/>\n<polygon fill=\"black\" stroke=\"black\" points=\"1853.04,-137.94 1847.16,-146.75 1857.26,-143.53 1853.04,-137.94\"/>\n</g>\n<!-- POAF -->\n<g id=\"node15\" class=\"node\">\n<title>POAF</title>\n<ellipse fill=\"none\" stroke=\"black\" cx=\"1756.41\" cy=\"-234\" rx=\"37.09\" ry=\"18\"/>\n<text text-anchor=\"middle\" x=\"1756.41\" y=\"-230.3\" font-family=\"Times,serif\" font-size=\"14.00\">POAF</text>\n</g>\n<!-- ИМТ&#45;&gt;POAF -->\n<g id=\"edge20\" class=\"edge\">\n<title>ИМТ&#45;&gt;POAF</title>\n<path fill=\"none\" stroke=\"black\" d=\"M1870.91,-20.38C1804.82,-23.88 1661.44,-35.59 1631.41,-72 1589.56,-122.76 1674.44,-184.71 1724.04,-214.83\"/>\n<polygon fill=\"black\" stroke=\"black\" points=\"1722.47,-217.96 1732.85,-220.07 1726.04,-211.95 1722.47,-217.96\"/>\n</g>\n<!-- НРС д/о &#160;(1&#45;есть,0&#45;нет)&#45;&gt;DEATH -->\n<g id=\"edge24\" class=\"edge\">\n<title>НРС д/о &#160;(1&#45;есть,0&#45;нет)&#45;&gt;DEATH</title>\n<path fill=\"none\" stroke=\"black\" d=\"M1746.95,-108.15C1721.78,-145.82 1661.56,-235.94 1632.15,-279.95\"/>\n<polygon fill=\"black\" stroke=\"black\" points=\"1629.18,-278.1 1626.53,-288.36 1635,-281.99 1629.18,-278.1\"/>\n</g>\n<!-- НРС д/о &#160;(1&#45;есть,0&#45;нет)&#45;&gt;ФП д/о -->\n<g id=\"edge22\" class=\"edge\">\n<title>НРС д/о &#160;(1&#45;есть,0&#45;нет)&#45;&gt;ФП д/о</title>\n<path fill=\"none\" stroke=\"black\" d=\"M1774.39,-107.95C1782.7,-116.76 1792.99,-127.67 1802.07,-137.31\"/>\n<polygon fill=\"black\" stroke=\"black\" points=\"1799.63,-139.82 1809.04,-144.69 1804.72,-135.02 1799.63,-139.82\"/>\n</g>\n<!-- НРС д/о &#160;(1&#45;есть,0&#45;нет)&#45;&gt;POAF -->\n<g id=\"edge23\" class=\"edge\">\n<title>НРС д/о &#160;(1&#45;есть,0&#45;нет)&#45;&gt;POAF</title>\n<path fill=\"none\" stroke=\"black\" d=\"M1758.17,-108.13C1757.83,-132.33 1757.21,-176.79 1756.8,-205.61\"/>\n<polygon fill=\"black\" stroke=\"black\" points=\"1753.3,-205.76 1756.66,-215.81 1760.3,-205.86 1753.3,-205.76\"/>\n</g>\n<!-- ФП д/о&#45;&gt;DEATH -->\n<g id=\"edge26\" class=\"edge\">\n<title>ФП д/о&#45;&gt;DEATH</title>\n<path fill=\"none\" stroke=\"black\" d=\"M1825,-180.15C1824.71,-200.07 1821.11,-232.66 1802.41,-252 1767.96,-287.64 1711.48,-299.83 1669.59,-303.74\"/>\n<polygon fill=\"black\" stroke=\"black\" points=\"1669.24,-300.26 1659.55,-304.55 1669.8,-307.24 1669.24,-300.26\"/>\n</g>\n<!-- ФП д/о&#45;&gt;POAF -->\n<g id=\"edge25\" class=\"edge\">\n<title>ФП д/о&#45;&gt;POAF</title>\n<path fill=\"none\" stroke=\"black\" d=\"M1808.98,-178.88C1800.12,-188.01 1788.82,-199.64 1778.97,-209.78\"/>\n<polygon fill=\"black\" stroke=\"black\" points=\"1776.24,-207.57 1771.78,-217.18 1781.26,-212.44 1776.24,-207.57\"/>\n</g>\n<!-- POAF&#45;&gt;DEATH -->\n<g id=\"edge27\" class=\"edge\">\n<title>POAF&#45;&gt;DEATH</title>\n<path fill=\"none\" stroke=\"black\" d=\"M1731.53,-247.35C1709.38,-258.35 1676.69,-274.58 1651.64,-287.01\"/>\n<polygon fill=\"black\" stroke=\"black\" points=\"1649.85,-284 1642.45,-291.58 1652.96,-290.27 1649.85,-284\"/>\n</g>\n<!-- Hb до операции -->\n<g id=\"node16\" class=\"node\">\n<title>Hb до операции</title>\n<ellipse fill=\"none\" stroke=\"black\" cx=\"2182.41\" cy=\"-234\" rx=\"86.38\" ry=\"18\"/>\n<text text-anchor=\"middle\" x=\"2182.41\" y=\"-230.3\" font-family=\"Times,serif\" font-size=\"14.00\">Hb до операции</text>\n</g>\n<!-- Hb до операции&#45;&gt;DEATH -->\n<g id=\"edge28\" class=\"edge\">\n<title>Hb до операции&#45;&gt;DEATH</title>\n<path fill=\"none\" stroke=\"black\" d=\"M2119.02,-246.32C2106.88,-248.33 2094.27,-250.32 2082.41,-252 1932.58,-273.22 1754.74,-291.51 1668.12,-299.98\"/>\n<polygon fill=\"black\" stroke=\"black\" points=\"1667.63,-296.51 1658.01,-300.96 1668.3,-303.48 1667.63,-296.51\"/>\n</g>\n</g>\n</svg>\n",
      "text/plain": [
       "<graphviz.files.Source at 0x7fc4bc476e80>"
      ]
     },
     "metadata": {},
     "output_type": "display_data"
    }
   ],
   "source": [
    "# Создание графа\n",
    "\n",
    "causal_links = CausalLinks()\n",
    "target_name = 'DEATH'\n",
    "feature_names = PREDICTORS\n",
    "\n",
    "causal_links.add_causes_effects(feature_names, target_name, \n",
    "    create_xgboost_f(feature_names, model, output_margin=True))\n",
    "causal_links.add_causes_effects('Время ИК', 'Время пережатия аорты')\n",
    "causal_links.add_causes_effects('ИМТ', 'НРС д/о  (1-есть,0-нет)')\n",
    "causal_links.add_causes_effects('ИМТ', 'ФП д/о')\n",
    "causal_links.add_causes_effects('ИМТ', 'POAF')\n",
    "causal_links.add_causes_effects('ИМТ', 'КДР(исх)')\n",
    "causal_links.add_causes_effects('ИБС (Да/Нет - 1/0)', \n",
    "    'Перенесенный ИМ (Да/Нет - 1/0)')\n",
    "causal_links.add_causes_effects('Стеноз -1, недостаточность-0', \\\n",
    "    'ФК аортального клапана')\n",
    "causal_links.add_causes_effects('Стеноз -1, недостаточность-0', \\\n",
    "    'Пиковый градиент на АК д/о')\n",
    "causal_links.add_causes_effects('Стеноз -1, недостаточность-0', \\\n",
    "    'ППС Порок МК (Да/Нет - 1/0)')\n",
    "causal_links.add_causes_effects('ФП д/о', 'POAF')\n",
    "causal_links.add_causes_effects('НРС д/о  (1-есть,0-нет)', 'ФП д/о')\n",
    "causal_links.add_causes_effects('НРС д/о  (1-есть,0-нет)', 'POAF')\n",
    "causal_links.add_causes_effects('Возраст, лет', 'Время ИК')\n",
    "causal_links.add_causes_effects('ИМТ', 'КДР(исх)')\n",
    "causal_graph = build_feature_graph(X_train, causal_links, \\\n",
    "    target_name=target_name, method=\"xgboost\")\n",
    "\n",
    "causal_graph.draw()\n"
   ]
  },
  {
   "cell_type": "code",
   "execution_count": 54,
   "metadata": {},
   "outputs": [
    {
     "name": "stderr",
     "output_type": "stream",
     "text": [
      "bruteforce sampling: 100%|██████████| 3/3 [00:10<00:00,  3.47s/it]\n"
     ]
    },
    {
     "data": {
      "image/svg+xml": "<?xml version=\"1.0\" encoding=\"UTF-8\" standalone=\"no\"?>\n<!DOCTYPE svg PUBLIC \"-//W3C//DTD SVG 1.1//EN\"\n \"http://www.w3.org/Graphics/SVG/1.1/DTD/svg11.dtd\">\n<!-- Generated by graphviz version 3.0.0 (20220315.2325)\n -->\n<!-- Pages: 1 -->\n<svg width=\"1676pt\" height=\"455pt\"\n viewBox=\"0.00 0.00 1676.44 455.00\" xmlns=\"http://www.w3.org/2000/svg\" xmlns:xlink=\"http://www.w3.org/1999/xlink\">\n<g id=\"graph0\" class=\"graph\" transform=\"scale(1 1) rotate(0) translate(4 451)\">\n<polygon fill=\"white\" stroke=\"transparent\" points=\"-4,4 -4,-451 1672.44,-451 1672.44,4 -4,4\"/>\n<!-- POAF -->\n<g id=\"node1\" class=\"node\">\n<title>POAF</title>\n<ellipse fill=\"none\" stroke=\"black\" cx=\"249.44\" cy=\"-105\" rx=\"63.09\" ry=\"18\"/>\n<text text-anchor=\"middle\" x=\"249.44\" y=\"-101.3\" font-family=\"Times,serif\" font-size=\"14.00\">POAF: 0.00</text>\n</g>\n<!-- DEATH -->\n<g id=\"node2\" class=\"node\">\n<title>DEATH</title>\n<ellipse fill=\"none\" stroke=\"black\" cx=\"73.44\" cy=\"-18\" rx=\"73.39\" ry=\"18\"/>\n<text text-anchor=\"middle\" x=\"73.44\" y=\"-14.3\" font-family=\"Times,serif\" font-size=\"14.00\">DEATH: &#45;0.63</text>\n</g>\n<!-- POAF&#45;&gt;DEATH -->\n<g id=\"edge1\" class=\"edge\">\n<title>POAF&#45;&gt;DEATH</title>\n<path fill=\"none\" stroke=\"#ff0051\" stroke-width=\"0.05\" d=\"M218.79,-89.19C189.83,-75.21 146.21,-54.14 114.31,-38.74\"/>\n<polygon fill=\"#ff0051\" stroke=\"#ff0051\" stroke-width=\"0.05\" points=\"115.76,-35.55 105.23,-34.35 112.72,-41.85 115.76,-35.55\"/>\n<text text-anchor=\"middle\" x=\"188.44\" y=\"-57.8\" font-family=\"Times,serif\" font-size=\"14.00\" fill=\"#ff0051\" fill-opacity=\"0.235294\">0.00</text>\n</g>\n<!-- Пиковый градиент на АК д/о -->\n<g id=\"node3\" class=\"node\">\n<title>Пиковый градиент на АК д/о</title>\n<ellipse fill=\"none\" stroke=\"black\" cx=\"1429.44\" cy=\"-159\" rx=\"176.57\" ry=\"18\"/>\n<text text-anchor=\"middle\" x=\"1429.44\" y=\"-155.3\" font-family=\"Times,serif\" font-size=\"14.00\">Пиковый градиент на АК д/о: &#45;0.63</text>\n</g>\n<!-- Пиковый градиент на АК д/о&#45;&gt;DEATH -->\n<g id=\"edge2\" class=\"edge\">\n<title>Пиковый градиент на АК д/о&#45;&gt;DEATH</title>\n<path fill=\"none\" stroke=\"#ff0051\" stroke-width=\"0.05\" d=\"M1388.03,-141.5C1324.69,-117.15 1199.4,-72.5 1088.44,-54 910.16,-24.27 366.45,-19.71 156.96,-19.07\"/>\n<polygon fill=\"#ff0051\" stroke=\"#ff0051\" stroke-width=\"0.05\" points=\"156.95,-15.57 146.94,-19.05 156.93,-22.57 156.95,-15.57\"/>\n<text text-anchor=\"middle\" x=\"1349.44\" y=\"-101.3\" font-family=\"Times,serif\" font-size=\"14.00\" fill=\"#ff0051\" fill-opacity=\"0.235294\">0.00</text>\n</g>\n<!-- ИБС (Да/Нет &#45; 1/0) -->\n<g id=\"node4\" class=\"node\">\n<title>ИБС (Да/Нет &#45; 1/0)</title>\n<ellipse fill=\"none\" stroke=\"black\" cx=\"376.44\" cy=\"-375\" rx=\"125.38\" ry=\"18\"/>\n<text text-anchor=\"middle\" x=\"376.44\" y=\"-371.3\" font-family=\"Times,serif\" font-size=\"14.00\">ИБС (Да/Нет &#45; 1/0): 0.00</text>\n</g>\n<!-- ИБС (Да/Нет &#45; 1/0)&#45;&gt;DEATH -->\n<g id=\"edge3\" class=\"edge\">\n<title>ИБС (Да/Нет &#45; 1/0)&#45;&gt;DEATH</title>\n<path fill=\"none\" stroke=\"#ff0051\" stroke-width=\"0.05\" d=\"M465.72,-362.32C477.71,-357 488.57,-349.5 496.44,-339 506.04,-326.2 504.7,-316.71 496.44,-303 487.62,-288.35 472.95,-298.49 462.44,-285 437.14,-252.52 469.11,-224.56 440.44,-195 419.57,-173.48 393.59,-200.86 375.44,-177 351.22,-145.16 398.22,-120.56 376.44,-87 352.38,-49.92 234.81,-32.44 153.41,-24.67\"/>\n<polygon fill=\"#ff0051\" stroke=\"#ff0051\" stroke-width=\"0.05\" points=\"153.45,-21.16 143.17,-23.72 152.81,-28.13 153.45,-21.16\"/>\n<text text-anchor=\"middle\" x=\"469.44\" y=\"-209.3\" font-family=\"Times,serif\" font-size=\"14.00\" fill=\"#ff0051\" fill-opacity=\"0.235294\">0.00</text>\n</g>\n<!-- Перенесенный ИМ (Да/Нет &#45; 1/0) -->\n<g id=\"node5\" class=\"node\">\n<title>Перенесенный ИМ (Да/Нет &#45; 1/0)</title>\n<ellipse fill=\"none\" stroke=\"black\" cx=\"570.44\" cy=\"-159\" rx=\"194.17\" ry=\"18\"/>\n<text text-anchor=\"middle\" x=\"570.44\" y=\"-155.3\" font-family=\"Times,serif\" font-size=\"14.00\">Перенесенный ИМ (Да/Нет &#45; 1/0): 0.00</text>\n</g>\n<!-- ИБС (Да/Нет &#45; 1/0)&#45;&gt;Перенесенный ИМ (Да/Нет &#45; 1/0) -->\n<g id=\"edge4\" class=\"edge\">\n<title>ИБС (Да/Нет &#45; 1/0)&#45;&gt;Перенесенный ИМ (Да/Нет &#45; 1/0)</title>\n<path fill=\"none\" stroke=\"#ff0051\" stroke-width=\"0.05\" d=\"M464.81,-362.2C508.34,-355.49 552.94,-346.87 559.44,-339 617.69,-268.56 484.51,-299.82 472.44,-285 462.34,-272.59 464.46,-262.87 472.44,-249 480.39,-235.19 490.96,-240.9 503.44,-231 520.7,-217.32 537.7,-199.24 550.26,-184.74\"/>\n<polygon fill=\"#ff0051\" stroke=\"#ff0051\" stroke-width=\"0.05\" points=\"552.94,-187 556.75,-177.11 547.61,-182.46 552.94,-187\"/>\n<text text-anchor=\"middle\" x=\"488.44\" y=\"-263.3\" font-family=\"Times,serif\" font-size=\"14.00\" fill=\"#ff0051\" fill-opacity=\"0.235294\">0.00</text>\n</g>\n<!-- Перенесенный ИМ (Да/Нет &#45; 1/0)&#45;&gt;DEATH -->\n<g id=\"edge5\" class=\"edge\">\n<title>Перенесенный ИМ (Да/Нет &#45; 1/0)&#45;&gt;DEATH</title>\n<path fill=\"none\" stroke=\"#ff0051\" stroke-width=\"0.05\" d=\"M559.04,-140.97C547.89,-125.32 529.66,-102.3 509.44,-87 481.7,-66 472.02,-63.13 438.44,-54 344.42,-28.45 232.36,-20.94 157.44,-19.03\"/>\n<polygon fill=\"#ff0051\" stroke=\"#ff0051\" stroke-width=\"0.05\" points=\"157.19,-15.53 147.12,-18.8 157.03,-22.52 157.19,-15.53\"/>\n<text text-anchor=\"middle\" x=\"561.44\" y=\"-101.3\" font-family=\"Times,serif\" font-size=\"14.00\" fill=\"#ff0051\" fill-opacity=\"0.235294\">0.00</text>\n</g>\n<!-- Возраст, лет -->\n<g id=\"node6\" class=\"node\">\n<title>Возраст, лет</title>\n<ellipse fill=\"none\" stroke=\"black\" cx=\"608.44\" cy=\"-375\" rx=\"100.18\" ry=\"18\"/>\n<text text-anchor=\"middle\" x=\"608.44\" y=\"-371.3\" font-family=\"Times,serif\" font-size=\"14.00\">Возраст, лет: &#45;2.97</text>\n</g>\n<!-- Возраст, лет&#45;&gt;DEATH -->\n<g id=\"edge6\" class=\"edge\">\n<title>Возраст, лет&#45;&gt;DEATH</title>\n<path fill=\"none\" stroke=\"#ff0051\" stroke-width=\"5\" d=\"M606.06,-356.89C602.99,-340.96 596.17,-317.56 581.44,-303 564.95,-286.69 545.72,-304.02 532.44,-285 523.29,-271.88 523.78,-262.45 532.44,-249 563.9,-200.18 595.81,-211.68 651.44,-195 676.01,-187.63 748.78,-196.5 765.44,-177 775.84,-164.84 775,-153.83 765.44,-141 745.29,-113.93 507.59,-60.33 474.44,-54 365.67,-33.22 237.9,-24.75 156.34,-21.32\"/>\n<polygon fill=\"#ff0051\" stroke=\"#ff0051\" stroke-width=\"5\" points=\"156.3,-16.94 146.13,-20.91 155.94,-25.68 156.3,-16.94\"/>\n<text text-anchor=\"middle\" x=\"667.44\" y=\"-209.3\" font-family=\"Times,serif\" font-size=\"14.00\" fill=\"#ff0051\">0.81</text>\n</g>\n<!-- Время ИК -->\n<g id=\"node7\" class=\"node\">\n<title>Время ИК</title>\n<ellipse fill=\"none\" stroke=\"black\" cx=\"622.44\" cy=\"-267\" rx=\"89.08\" ry=\"18\"/>\n<text text-anchor=\"middle\" x=\"622.44\" y=\"-263.3\" font-family=\"Times,serif\" font-size=\"14.00\">Время ИК: &#45;0.63</text>\n</g>\n<!-- Возраст, лет&#45;&gt;Время ИК -->\n<g id=\"edge7\" class=\"edge\">\n<title>Возраст, лет&#45;&gt;Время ИК</title>\n<path fill=\"none\" stroke=\"#ff0051\" stroke-width=\"0.05\" d=\"M624.97,-357.18C629.22,-351.8 633.21,-345.54 635.44,-339 640.31,-324.73 637.73,-308.19 633.63,-294.66\"/>\n<polygon fill=\"#ff0051\" stroke=\"#ff0051\" stroke-width=\"0.05\" points=\"636.86,-293.31 630.29,-285 630.24,-295.59 636.86,-293.31\"/>\n<text text-anchor=\"middle\" x=\"654.44\" y=\"-317.3\" font-family=\"Times,serif\" font-size=\"14.00\" fill=\"#ff0051\" fill-opacity=\"0.235294\">0.00</text>\n</g>\n<!-- Время ИК&#45;&gt;DEATH -->\n<g id=\"edge8\" class=\"edge\">\n<title>Время ИК&#45;&gt;DEATH</title>\n<path fill=\"none\" stroke=\"#ff0051\" stroke-width=\"0.05\" d=\"M651.67,-249.96C678.33,-235.4 718.87,-213.45 754.44,-195 770.32,-186.76 781.04,-192.22 790.44,-177 798.86,-163.39 798.03,-155.09 790.44,-141 750.93,-67.67 705.75,-72.09 624.44,-54 537.7,-34.7 287.56,-25 156.22,-21.11\"/>\n<polygon fill=\"#ff0051\" stroke=\"#ff0051\" stroke-width=\"0.05\" points=\"156.3,-17.62 146.2,-20.82 156.09,-24.61 156.3,-17.62\"/>\n<text text-anchor=\"middle\" x=\"813.44\" y=\"-155.3\" font-family=\"Times,serif\" font-size=\"14.00\" fill=\"#ff0051\" fill-opacity=\"0.235294\">0.00</text>\n</g>\n<!-- Время пережатия аорты -->\n<g id=\"node8\" class=\"node\">\n<title>Время пережатия аорты</title>\n<ellipse fill=\"none\" stroke=\"black\" cx=\"1008.44\" cy=\"-159\" rx=\"158.67\" ry=\"18\"/>\n<text text-anchor=\"middle\" x=\"1008.44\" y=\"-155.3\" font-family=\"Times,serif\" font-size=\"14.00\">Время пережатия аорты: &#45;0.94</text>\n</g>\n<!-- Время ИК&#45;&gt;Время пережатия аорты -->\n<g id=\"edge9\" class=\"edge\">\n<title>Время ИК&#45;&gt;Время пережатия аорты</title>\n<path fill=\"none\" stroke=\"#ff0051\" stroke-width=\"0.05\" d=\"M672.91,-252.14C741.46,-233.32 864.21,-199.61 940.71,-178.6\"/>\n<polygon fill=\"#ff0051\" stroke=\"#ff0051\" stroke-width=\"0.05\" points=\"942.01,-181.87 950.73,-175.85 940.16,-175.12 942.01,-181.87\"/>\n<text text-anchor=\"middle\" x=\"889.44\" y=\"-209.3\" font-family=\"Times,serif\" font-size=\"14.00\" fill=\"#ff0051\" fill-opacity=\"0.235294\">0.00</text>\n</g>\n<!-- Время пережатия аорты&#45;&gt;DEATH -->\n<g id=\"edge10\" class=\"edge\">\n<title>Время пережатия аорты&#45;&gt;DEATH</title>\n<path fill=\"none\" stroke=\"#ff0051\" stroke-width=\"0.05\" d=\"M972.66,-141.39C918.69,-117.22 812.64,-73.17 717.44,-54 612.56,-32.87 305.37,-23.78 156.38,-20.53\"/>\n<polygon fill=\"#ff0051\" stroke=\"#ff0051\" stroke-width=\"0.05\" points=\"156.44,-17.03 146.37,-20.32 156.29,-24.03 156.44,-17.03\"/>\n<text text-anchor=\"middle\" x=\"943.44\" y=\"-101.3\" font-family=\"Times,serif\" font-size=\"14.00\" fill=\"#ff0051\" fill-opacity=\"0.235294\">0.00</text>\n</g>\n<!-- ФП д/о -->\n<g id=\"node9\" class=\"node\">\n<title>ФП д/о</title>\n<ellipse fill=\"none\" stroke=\"black\" cx=\"362.44\" cy=\"-213\" rx=\"68.79\" ry=\"18\"/>\n<text text-anchor=\"middle\" x=\"362.44\" y=\"-209.3\" font-family=\"Times,serif\" font-size=\"14.00\">ФП д/о: 0.00</text>\n</g>\n<!-- ФП д/о&#45;&gt;POAF -->\n<g id=\"edge11\" class=\"edge\">\n<title>ФП д/о&#45;&gt;POAF</title>\n<path fill=\"none\" stroke=\"#ff0051\" stroke-width=\"0.05\" d=\"M309.75,-201.17C295.37,-195.96 280.9,-188.28 270.44,-177 259.4,-165.09 254.15,-147.64 251.65,-133.03\"/>\n<polygon fill=\"#ff0051\" stroke=\"#ff0051\" stroke-width=\"0.05\" points=\"255.1,-132.43 250.28,-123 248.17,-133.38 255.1,-132.43\"/>\n<text text-anchor=\"middle\" x=\"286.44\" y=\"-155.3\" font-family=\"Times,serif\" font-size=\"14.00\" fill=\"#ff0051\" fill-opacity=\"0.235294\">0.00</text>\n</g>\n<!-- ФП д/о&#45;&gt;DEATH -->\n<g id=\"edge12\" class=\"edge\">\n<title>ФП д/о&#45;&gt;DEATH</title>\n<path fill=\"none\" stroke=\"#ff0051\" stroke-width=\"0.05\" d=\"M354.69,-195.08C352.22,-189.39 349.58,-182.98 347.44,-177 333.44,-137.79 350.84,-116.48 321.44,-87 278.35,-43.79 210.58,-27.33 156.76,-21.38\"/>\n<polygon fill=\"#ff0051\" stroke=\"#ff0051\" stroke-width=\"0.05\" points=\"156.84,-17.87 146.54,-20.36 156.14,-24.84 156.84,-17.87\"/>\n<text text-anchor=\"middle\" x=\"356.44\" y=\"-101.3\" font-family=\"Times,serif\" font-size=\"14.00\" fill=\"#ff0051\" fill-opacity=\"0.235294\">0.00</text>\n</g>\n<!-- ППС Порок МК (Да/Нет &#45; 1/0) -->\n<g id=\"node10\" class=\"node\">\n<title>ППС Порок МК (Да/Нет &#45; 1/0)</title>\n<ellipse fill=\"none\" stroke=\"black\" cx=\"934.44\" cy=\"-321\" rx=\"178.97\" ry=\"18\"/>\n<text text-anchor=\"middle\" x=\"934.44\" y=\"-317.3\" font-family=\"Times,serif\" font-size=\"14.00\">ППС Порок МК (Да/Нет &#45; 1/0): 0.00</text>\n</g>\n<!-- ППС Порок МК (Да/Нет &#45; 1/0)&#45;&gt;DEATH -->\n<g id=\"edge13\" class=\"edge\">\n<title>ППС Порок МК (Да/Нет &#45; 1/0)&#45;&gt;DEATH</title>\n<path fill=\"none\" stroke=\"#ff0051\" stroke-width=\"0.05\" d=\"M959.05,-303.03C997.34,-277.15 1074.13,-227.43 1144.44,-195 1165.51,-185.28 1180.16,-196.02 1193.44,-177 1202.6,-163.88 1201.75,-154.67 1193.44,-141 1166.25,-96.25 1026.15,-62.3 974.44,-54 818.61,-28.99 349.27,-21.66 156.98,-19.68\"/>\n<polygon fill=\"#ff0051\" stroke=\"#ff0051\" stroke-width=\"0.05\" points=\"156.97,-16.18 146.93,-19.58 156.89,-23.18 156.97,-16.18\"/>\n<text text-anchor=\"middle\" x=\"1215.44\" y=\"-155.3\" font-family=\"Times,serif\" font-size=\"14.00\" fill=\"#ff0051\" fill-opacity=\"0.235294\">0.00</text>\n</g>\n<!-- ИМТ -->\n<g id=\"node11\" class=\"node\">\n<title>ИМТ</title>\n<ellipse fill=\"none\" stroke=\"black\" cx=\"72.44\" cy=\"-429\" rx=\"59.59\" ry=\"18\"/>\n<text text-anchor=\"middle\" x=\"72.44\" y=\"-425.3\" font-family=\"Times,serif\" font-size=\"14.00\">ИМТ: 0.52</text>\n</g>\n<!-- ИМТ&#45;&gt;POAF -->\n<g id=\"edge14\" class=\"edge\">\n<title>ИМТ&#45;&gt;POAF</title>\n<path fill=\"none\" stroke=\"#ff0051\" stroke-width=\"0.05\" d=\"M124.98,-420.28C147.47,-415.16 173.17,-406.74 193.44,-393 210.22,-381.63 203.65,-366.72 221.44,-357 260.41,-335.71 390.49,-371.78 420.44,-339 431.24,-327.19 429.9,-315.91 420.44,-303 404.74,-281.57 383.84,-302.02 363.44,-285 349.55,-273.41 358.42,-260.49 344.44,-249 322.94,-231.31 306.71,-247.71 284.44,-231 261.56,-213.84 257.55,-204.43 249.44,-177 245.28,-162.92 244.99,-146.56 245.87,-133.1\"/>\n<polygon fill=\"#ff0051\" stroke=\"#ff0051\" stroke-width=\"0.05\" points=\"249.37,-133.3 246.78,-123.03 242.4,-132.67 249.37,-133.3\"/>\n<text text-anchor=\"middle\" x=\"379.44\" y=\"-263.3\" font-family=\"Times,serif\" font-size=\"14.00\" fill=\"#ff0051\" fill-opacity=\"0.235294\">0.00</text>\n</g>\n<!-- ИМТ&#45;&gt;DEATH -->\n<g id=\"edge15\" class=\"edge\">\n<title>ИМТ&#45;&gt;DEATH</title>\n<path fill=\"none\" stroke=\"#ff0051\" stroke-width=\"0.05\" d=\"M71.49,-410.84C70.05,-384 67.4,-330.46 66.44,-285 65.6,-245.01 65.65,-234.99 66.44,-195 67.49,-142.58 70.27,-81.44 72,-46.76\"/>\n<polygon fill=\"#ff0051\" stroke=\"#ff0051\" stroke-width=\"0.05\" points=\"75.51,-46.64 72.52,-36.48 68.52,-46.29 75.51,-46.64\"/>\n<text text-anchor=\"middle\" x=\"82.44\" y=\"-209.3\" font-family=\"Times,serif\" font-size=\"14.00\" fill=\"#ff0051\" fill-opacity=\"0.235294\">0.00</text>\n</g>\n<!-- ИМТ&#45;&gt;ФП д/о -->\n<g id=\"edge16\" class=\"edge\">\n<title>ИМТ&#45;&gt;ФП д/о</title>\n<path fill=\"none\" stroke=\"#ff0051\" stroke-width=\"0.05\" d=\"M129.75,-423.65C159.04,-419.27 194.15,-410.5 221.44,-393 238.51,-382.06 231.64,-366.7 249.44,-357 289.41,-335.23 422.71,-372.56 453.44,-339 464.25,-327.2 460.87,-317.17 453.44,-303 446.92,-290.55 437.65,-294.66 427.44,-285 412.72,-271.07 413.07,-264.01 399.44,-249 395.97,-245.17 392.15,-241.26 388.32,-237.51\"/>\n<polygon fill=\"#ff0051\" stroke=\"#ff0051\" stroke-width=\"0.05\" points=\"390.7,-234.94 381.05,-230.56 385.86,-240 390.7,-234.94\"/>\n<text text-anchor=\"middle\" x=\"476.44\" y=\"-317.3\" font-family=\"Times,serif\" font-size=\"14.00\" fill=\"#ff0051\" fill-opacity=\"0.235294\">0.00</text>\n</g>\n<!-- КДР(исх) -->\n<g id=\"node12\" class=\"node\">\n<title>КДР(исх)</title>\n<ellipse fill=\"none\" stroke=\"black\" cx=\"153.44\" cy=\"-267\" rx=\"80.69\" ry=\"18\"/>\n<text text-anchor=\"middle\" x=\"153.44\" y=\"-263.3\" font-family=\"Times,serif\" font-size=\"14.00\">КДР(исх): 0.20</text>\n</g>\n<!-- ИМТ&#45;&gt;КДР(исх) -->\n<g id=\"edge17\" class=\"edge\">\n<title>ИМТ&#45;&gt;КДР(исх)</title>\n<path fill=\"none\" stroke=\"#ff0051\" stroke-width=\"0.05\" d=\"M74.87,-410.73C79.17,-385.12 90.07,-336.51 114.44,-303 117.37,-298.98 120.82,-295.08 124.44,-291.44\"/>\n<polygon fill=\"#ff0051\" stroke=\"#ff0051\" stroke-width=\"0.05\" points=\"127.09,-293.75 132,-284.35 122.31,-288.64 127.09,-293.75\"/>\n<text text-anchor=\"middle\" x=\"104.44\" y=\"-371.3\" font-family=\"Times,serif\" font-size=\"14.00\" fill=\"#ff0051\" fill-opacity=\"0.235294\">0.00</text>\n</g>\n<!-- НРС д/о &#160;(1&#45;есть,0&#45;нет) -->\n<g id=\"node13\" class=\"node\">\n<title>НРС д/о &#160;(1&#45;есть,0&#45;нет)</title>\n<ellipse fill=\"none\" stroke=\"black\" cx=\"267.44\" cy=\"-321\" rx=\"143.77\" ry=\"18\"/>\n<text text-anchor=\"middle\" x=\"267.44\" y=\"-317.3\" font-family=\"Times,serif\" font-size=\"14.00\">НРС д/о &#160;(1&#45;есть,0&#45;нет): 0.00</text>\n</g>\n<!-- ИМТ&#45;&gt;НРС д/о &#160;(1&#45;есть,0&#45;нет) -->\n<g id=\"edge18\" class=\"edge\">\n<title>ИМТ&#45;&gt;НРС д/о &#160;(1&#45;есть,0&#45;нет)</title>\n<path fill=\"none\" stroke=\"#ff0051\" stroke-width=\"0.05\" d=\"M98.54,-412.75C107.68,-406.98 117.81,-400.09 126.44,-393 143.69,-378.84 142.53,-368.84 161.44,-357 171.71,-350.57 183.28,-345.2 194.91,-340.75\"/>\n<polygon fill=\"#ff0051\" stroke=\"#ff0051\" stroke-width=\"0.05\" points=\"196.45,-343.91 204.66,-337.22 194.07,-337.33 196.45,-343.91\"/>\n<text text-anchor=\"middle\" x=\"177.44\" y=\"-371.3\" font-family=\"Times,serif\" font-size=\"14.00\" fill=\"#ff0051\" fill-opacity=\"0.235294\">0.00</text>\n</g>\n<!-- КДР(исх)&#45;&gt;DEATH -->\n<g id=\"edge19\" class=\"edge\">\n<title>КДР(исх)&#45;&gt;DEATH</title>\n<path fill=\"none\" stroke=\"#ff0051\" stroke-width=\"0.05\" d=\"M138.62,-249.3C124.49,-232.35 103.87,-204.73 93.44,-177 84.68,-153.7 78.35,-85 75.37,-46.3\"/>\n<polygon fill=\"#ff0051\" stroke=\"#ff0051\" stroke-width=\"0.05\" points=\"78.85,-45.96 74.61,-36.25 71.87,-46.48 78.85,-45.96\"/>\n<text text-anchor=\"middle\" x=\"109.44\" y=\"-155.3\" font-family=\"Times,serif\" font-size=\"14.00\" fill=\"#ff0051\" fill-opacity=\"0.235294\">0.00</text>\n</g>\n<!-- НРС д/о &#160;(1&#45;есть,0&#45;нет)&#45;&gt;POAF -->\n<g id=\"edge20\" class=\"edge\">\n<title>НРС д/о &#160;(1&#45;есть,0&#45;нет)&#45;&gt;POAF</title>\n<path fill=\"none\" stroke=\"#ff0051\" stroke-width=\"0.05\" d=\"M271.25,-302.84C273.68,-287.32 274.55,-264.58 263.44,-249 251.18,-231.8 232.77,-247.39 219.44,-231 204.04,-212.06 211.68,-201.31 209.44,-177 207.98,-161.07 202.83,-155.57 209.44,-141 211.44,-136.61 214.28,-132.55 217.55,-128.88\"/>\n<polygon fill=\"#ff0051\" stroke=\"#ff0051\" stroke-width=\"0.05\" points=\"220,-131.37 224.71,-121.88 215.11,-126.37 220,-131.37\"/>\n<text text-anchor=\"middle\" x=\"235.44\" y=\"-209.3\" font-family=\"Times,serif\" font-size=\"14.00\" fill=\"#ff0051\" fill-opacity=\"0.235294\">0.00</text>\n</g>\n<!-- НРС д/о &#160;(1&#45;есть,0&#45;нет)&#45;&gt;DEATH -->\n<g id=\"edge21\" class=\"edge\">\n<title>НРС д/о &#160;(1&#45;есть,0&#45;нет)&#45;&gt;DEATH</title>\n<path fill=\"none\" stroke=\"#ff0051\" stroke-width=\"0.05\" d=\"M263.52,-302.83C259.26,-287.31 251.16,-264.56 237.44,-249 226.91,-237.05 218.05,-241.91 206.44,-231 175.66,-202.07 114.9,-94.76 87.47,-44.84\"/>\n<polygon fill=\"#ff0051\" stroke=\"#ff0051\" stroke-width=\"0.05\" points=\"90.47,-43.03 82.59,-35.94 84.33,-46.39 90.47,-43.03\"/>\n<text text-anchor=\"middle\" x=\"181.44\" y=\"-155.3\" font-family=\"Times,serif\" font-size=\"14.00\" fill=\"#ff0051\" fill-opacity=\"0.235294\">0.00</text>\n</g>\n<!-- НРС д/о &#160;(1&#45;есть,0&#45;нет)&#45;&gt;ФП д/о -->\n<g id=\"edge22\" class=\"edge\">\n<title>НРС д/о &#160;(1&#45;есть,0&#45;нет)&#45;&gt;ФП д/о</title>\n<path fill=\"none\" stroke=\"#ff0051\" stroke-width=\"0.05\" d=\"M278.17,-302.99C291.3,-282.17 311.9,-249.57 312.44,-249 316.96,-244.27 322.2,-239.79 327.56,-235.71\"/>\n<polygon fill=\"#ff0051\" stroke=\"#ff0051\" stroke-width=\"0.05\" points=\"329.91,-238.34 335.98,-229.66 325.82,-232.65 329.91,-238.34\"/>\n<text text-anchor=\"middle\" x=\"328.44\" y=\"-263.3\" font-family=\"Times,serif\" font-size=\"14.00\" fill=\"#ff0051\" fill-opacity=\"0.235294\">0.00</text>\n</g>\n<!-- Hb до операции -->\n<g id=\"node14\" class=\"node\">\n<title>Hb до операции</title>\n<ellipse fill=\"none\" stroke=\"black\" cx=\"781.44\" cy=\"-429\" rx=\"112.38\" ry=\"18\"/>\n<text text-anchor=\"middle\" x=\"781.44\" y=\"-425.3\" font-family=\"Times,serif\" font-size=\"14.00\">Hb до операции: 0.44</text>\n</g>\n<!-- Hb до операции&#45;&gt;DEATH -->\n<g id=\"edge23\" class=\"edge\">\n<title>Hb до операции&#45;&gt;DEATH</title>\n<path fill=\"none\" stroke=\"#ff0051\" stroke-width=\"0.05\" d=\"M888.63,-423.36C954.45,-418.88 1040.09,-410.11 1114.44,-393 1360.83,-336.3 1709.2,-379.2 1624.44,-141 1562,34.5 1400.38,-65.22 1214.44,-54 818.9,-30.12 345.19,-22.19 156.71,-19.86\"/>\n<polygon fill=\"#ff0051\" stroke=\"#ff0051\" stroke-width=\"0.05\" points=\"156.64,-16.36 146.6,-19.74 156.55,-23.36 156.64,-16.36\"/>\n<text text-anchor=\"middle\" x=\"1652.44\" y=\"-209.3\" font-family=\"Times,serif\" font-size=\"14.00\" fill=\"#ff0051\" fill-opacity=\"0.235294\">0.00</text>\n</g>\n<!-- ФК аортального клапана -->\n<g id=\"node15\" class=\"node\">\n<title>ФК аортального клапана</title>\n<ellipse fill=\"none\" stroke=\"black\" cx=\"1397.44\" cy=\"-213\" rx=\"155.17\" ry=\"18\"/>\n<text text-anchor=\"middle\" x=\"1397.44\" y=\"-209.3\" font-family=\"Times,serif\" font-size=\"14.00\">ФК аортального клапана: 1.08</text>\n</g>\n<!-- ФК аортального клапана&#45;&gt;DEATH -->\n<g id=\"edge24\" class=\"edge\">\n<title>ФК аортального клапана&#45;&gt;DEATH</title>\n<path fill=\"none\" stroke=\"#ff0051\" stroke-width=\"0.05\" d=\"M1530.09,-203.57C1565.08,-198.45 1596.24,-190.22 1607.44,-177 1617.79,-164.79 1617.43,-153.5 1607.44,-141 1598.98,-130.41 1382.78,-89.45 1369.44,-87 1266.58,-68.08 1240.64,-63.07 1136.44,-54 772.84,-22.36 337,-18.71 157.24,-18.69\"/>\n<polygon fill=\"#ff0051\" stroke=\"#ff0051\" stroke-width=\"0.05\" points=\"157.06,-15.19 147.07,-18.7 157.07,-22.19 157.06,-15.19\"/>\n<text text-anchor=\"middle\" x=\"1560.44\" y=\"-101.3\" font-family=\"Times,serif\" font-size=\"14.00\" fill=\"#ff0051\" fill-opacity=\"0.235294\">0.00</text>\n</g>\n<!-- Стеноз &#45;1, недостаточность&#45;0 -->\n<g id=\"node16\" class=\"node\">\n<title>Стеноз &#45;1, недостаточность&#45;0</title>\n<ellipse fill=\"none\" stroke=\"black\" cx=\"425.44\" cy=\"-429\" rx=\"175.47\" ry=\"18\"/>\n<text text-anchor=\"middle\" x=\"425.44\" y=\"-425.3\" font-family=\"Times,serif\" font-size=\"14.00\">Стеноз &#45;1, недостаточность&#45;0: 1.00</text>\n</g>\n<!-- Стеноз &#45;1, недостаточность&#45;0&#45;&gt;DEATH -->\n<g id=\"edge25\" class=\"edge\">\n<title>Стеноз &#45;1, недостаточность&#45;0&#45;&gt;DEATH</title>\n<path fill=\"none\" stroke=\"#ff0051\" stroke-width=\"0.05\" d=\"M560.75,-417.47C627.73,-411.15 696.98,-402.51 709.44,-393 743.83,-366.77 715.3,-333.01 746.44,-303 771.43,-278.92 1005.79,-203.45 1039.44,-195 1067.52,-187.95 1149.44,-198.84 1168.44,-177 1178.95,-164.93 1178.25,-153.64 1168.44,-141 1148.76,-115.61 1129.52,-131.14 1098.44,-123 1038.37,-107.27 1024.16,-100.02 963.44,-87 874.5,-67.92 851.9,-63.66 761.44,-54 544.05,-30.79 286.32,-22.88 156.71,-20.25\"/>\n<polygon fill=\"#ff0051\" stroke=\"#ff0051\" stroke-width=\"0.05\" points=\"156.53,-16.75 146.46,-20.05 156.39,-23.75 156.53,-16.75\"/>\n<text text-anchor=\"middle\" x=\"1055.44\" y=\"-209.3\" font-family=\"Times,serif\" font-size=\"14.00\" fill=\"#ff0051\" fill-opacity=\"0.235294\">0.00</text>\n</g>\n<!-- Стеноз &#45;1, недостаточность&#45;0&#45;&gt;Пиковый градиент на АК д/о -->\n<g id=\"edge26\" class=\"edge\">\n<title>Стеноз &#45;1, недостаточность&#45;0&#45;&gt;Пиковый градиент на АК д/о</title>\n<path fill=\"none\" stroke=\"#ff0051\" stroke-width=\"0.05\" d=\"M564.01,-417.92C692.68,-408.49 866.75,-395.47 882.44,-393 950.17,-382.35 965.48,-371.73 1032.44,-357 1072.28,-348.24 1096.58,-370.55 1122.44,-339 1132.59,-326.63 1132.05,-315.79 1122.44,-303 1105.21,-280.06 1077.67,-307.94 1060.44,-285 1050.84,-272.21 1050.38,-261.44 1060.44,-249 1084.45,-219.31 1107.94,-242.2 1144.44,-231 1185.24,-218.48 1192.44,-206.81 1233.44,-195 1260.78,-187.12 1290.79,-180.69 1318.94,-175.6\"/>\n<polygon fill=\"#ff0051\" stroke=\"#ff0051\" stroke-width=\"0.05\" points=\"1319.58,-179.04 1328.81,-173.85 1318.36,-172.15 1319.58,-179.04\"/>\n<text text-anchor=\"middle\" x=\"1145.44\" y=\"-317.3\" font-family=\"Times,serif\" font-size=\"14.00\" fill=\"#ff0051\" fill-opacity=\"0.235294\">0.00</text>\n</g>\n<!-- Стеноз &#45;1, недостаточность&#45;0&#45;&gt;ППС Порок МК (Да/Нет &#45; 1/0) -->\n<g id=\"edge27\" class=\"edge\">\n<title>Стеноз &#45;1, недостаточность&#45;0&#45;&gt;ППС Порок МК (Да/Нет &#45; 1/0)</title>\n<path fill=\"none\" stroke=\"#ff0051\" stroke-width=\"0.05\" d=\"M570.71,-418.82C623.66,-413.61 683.69,-405.52 737.44,-393 789.83,-380.8 847.47,-358.98 886.79,-342.74\"/>\n<polygon fill=\"#ff0051\" stroke=\"#ff0051\" stroke-width=\"0.05\" points=\"888.5,-345.82 896.38,-338.74 885.8,-339.36 888.5,-345.82\"/>\n<text text-anchor=\"middle\" x=\"862.44\" y=\"-371.3\" font-family=\"Times,serif\" font-size=\"14.00\" fill=\"#ff0051\" fill-opacity=\"0.235294\">0.00</text>\n</g>\n<!-- Стеноз &#45;1, недостаточность&#45;0&#45;&gt;ФК аортального клапана -->\n<g id=\"edge28\" class=\"edge\">\n<title>Стеноз &#45;1, недостаточность&#45;0&#45;&gt;ФК аортального клапана</title>\n<path fill=\"none\" stroke=\"#ff0051\" stroke-width=\"0.05\" d=\"M561.48,-417.61C593.9,-415.28 628.39,-412.93 660.44,-411 825.67,-401.03 870.02,-424.88 1032.44,-393 1103.2,-379.11 1143.79,-397.87 1185.44,-339 1244.19,-255.96 1092.71,-308.76 1072.44,-285 1062.06,-272.83 1061.75,-260.9 1072.44,-249 1075.89,-245.16 1180.47,-234.37 1270.07,-225.78\"/>\n<polygon fill=\"#ff0051\" stroke=\"#ff0051\" stroke-width=\"0.05\" points=\"1270.46,-229.26 1280.08,-224.82 1269.79,-222.29 1270.46,-229.26\"/>\n<text text-anchor=\"middle\" x=\"1214.44\" y=\"-317.3\" font-family=\"Times,serif\" font-size=\"14.00\" fill=\"#ff0051\" fill-opacity=\"0.235294\">0.00</text>\n</g>\n</g>\n</svg>\n",
      "text/plain": [
       "<graphviz.files.Source at 0x7fc535cbd3a0>"
      ]
     },
     "metadata": {},
     "output_type": "display_data"
    },
    {
     "data": {
      "text/plain": [
       "<AGraph <Swig Object of type 'Agraph_t *' at 0x7fc4bc645840>>"
      ]
     },
     "execution_count": 54,
     "metadata": {},
     "output_type": "execute_result"
    }
   ],
   "source": [
    "# Создание эксплейнера. Во всех примерах со всеми классами (GraphExplainer, \n",
    "# on_manifold и т.д.) требуется параметр `sample_ind`, обозначающий отдельное \n",
    "# наблюдение/пациента. Для каждого пациента рассматривать эти графы бессмысленно. \n",
    "# Ниже я демонстрирую, что будет, если в список `sample_ind` загрузить несколько \n",
    "# пациенртов. Теоретически, зависимости меняются и SHAP values становятся ВСЕ \n",
    "# синие. \n",
    "\n",
    "cf_flow_adult = GraphExplainer(causal_graph, X_train, nruns=3).shap_values(X_train)\n",
    "sample_ind = [6]\n",
    "\n",
    "cf_flow_adult.draw(sample_ind, max_display=len(PREDICTORS))"
   ]
  },
  {
   "cell_type": "code",
   "execution_count": 55,
   "metadata": {},
   "outputs": [
    {
     "name": "stderr",
     "output_type": "stream",
     "text": [
      "bruteforce sampling: 100%|██████████| 3/3 [00:10<00:00,  3.53s/it]\n"
     ]
    },
    {
     "data": {
      "image/svg+xml": "<?xml version=\"1.0\" encoding=\"UTF-8\" standalone=\"no\"?>\n<!DOCTYPE svg PUBLIC \"-//W3C//DTD SVG 1.1//EN\"\n \"http://www.w3.org/Graphics/SVG/1.1/DTD/svg11.dtd\">\n<!-- Generated by graphviz version 3.0.0 (20220315.2325)\n -->\n<!-- Pages: 1 -->\n<svg width=\"2074pt\" height=\"455pt\"\n viewBox=\"0.00 0.00 2074.34 455.00\" xmlns=\"http://www.w3.org/2000/svg\" xmlns:xlink=\"http://www.w3.org/1999/xlink\">\n<g id=\"graph0\" class=\"graph\" transform=\"scale(1 1) rotate(0) translate(4 451)\">\n<polygon fill=\"white\" stroke=\"transparent\" points=\"-4,4 -4,-451 2070.34,-451 2070.34,4 -4,4\"/>\n<!-- КДР(исх) -->\n<g id=\"node1\" class=\"node\">\n<title>КДР(исх)</title>\n<ellipse fill=\"none\" stroke=\"black\" cx=\"1580.34\" cy=\"-321\" rx=\"53.89\" ry=\"18\"/>\n<text text-anchor=\"middle\" x=\"1580.34\" y=\"-317.3\" font-family=\"Times,serif\" font-size=\"14.00\">КДР(исх)</text>\n</g>\n<!-- DEATH -->\n<g id=\"node2\" class=\"node\">\n<title>DEATH</title>\n<ellipse fill=\"none\" stroke=\"black\" cx=\"1580.34\" cy=\"-18\" rx=\"44.39\" ry=\"18\"/>\n<text text-anchor=\"middle\" x=\"1580.34\" y=\"-14.3\" font-family=\"Times,serif\" font-size=\"14.00\">DEATH</text>\n</g>\n<!-- КДР(исх)&#45;&gt;DEATH -->\n<g id=\"edge1\" class=\"edge\">\n<title>КДР(исх)&#45;&gt;DEATH</title>\n<path fill=\"none\" stroke=\"#008bfb\" stroke-width=\"0.05\" d=\"M1580.34,-302.95C1580.34,-253.09 1580.34,-107.2 1580.34,-46.25\"/>\n<polygon fill=\"#008bfb\" stroke=\"#008bfb\" stroke-width=\"0.05\" points=\"1583.84,-46.23 1580.34,-36.23 1576.84,-46.23 1583.84,-46.23\"/>\n<text text-anchor=\"middle\" x=\"1596.34\" y=\"-155.3\" font-family=\"Times,serif\" font-size=\"14.00\" fill=\"#008bfb\" fill-opacity=\"0.235294\">0.00</text>\n</g>\n<!-- Стеноз &#45;1, недостаточность&#45;0 -->\n<g id=\"node3\" class=\"node\">\n<title>Стеноз &#45;1, недостаточность&#45;0</title>\n<ellipse fill=\"none\" stroke=\"black\" cx=\"480.34\" cy=\"-267\" rx=\"149.47\" ry=\"18\"/>\n<text text-anchor=\"middle\" x=\"480.34\" y=\"-263.3\" font-family=\"Times,serif\" font-size=\"14.00\">Стеноз &#45;1, недостаточность&#45;0</text>\n</g>\n<!-- Стеноз &#45;1, недостаточность&#45;0&#45;&gt;DEATH -->\n<g id=\"edge2\" class=\"edge\">\n<title>Стеноз &#45;1, недостаточность&#45;0&#45;&gt;DEATH</title>\n<path fill=\"none\" stroke=\"#008bfb\" stroke-width=\"0.05\" d=\"M500.36,-249.13C519.51,-232.27 548.34,-204.91 568.34,-177 578.76,-162.46 571.47,-150.95 586.34,-141 632.26,-110.27 780.54,-135.62 834.34,-123 875.48,-113.35 881.55,-98.04 922.34,-87 1023.72,-59.57 1051.96,-65.66 1156.34,-54 1289.11,-39.17 1445.93,-27.82 1526.53,-22.44\"/>\n<polygon fill=\"#008bfb\" stroke=\"#008bfb\" stroke-width=\"0.05\" points=\"1527.17,-25.91 1536.92,-21.75 1526.71,-18.92 1527.17,-25.91\"/>\n<text text-anchor=\"middle\" x=\"602.34\" y=\"-155.3\" font-family=\"Times,serif\" font-size=\"14.00\" fill=\"#008bfb\" fill-opacity=\"0.235294\">0.00</text>\n</g>\n<!-- Пиковый градиент на АК д/о -->\n<g id=\"node4\" class=\"node\">\n<title>Пиковый градиент на АК д/о</title>\n<ellipse fill=\"none\" stroke=\"black\" cx=\"775.34\" cy=\"-159\" rx=\"147.57\" ry=\"18\"/>\n<text text-anchor=\"middle\" x=\"775.34\" y=\"-155.3\" font-family=\"Times,serif\" font-size=\"14.00\">Пиковый градиент на АК д/о</text>\n</g>\n<!-- Стеноз &#45;1, недостаточность&#45;0&#45;&gt;Пиковый градиент на АК д/о -->\n<g id=\"edge3\" class=\"edge\">\n<title>Стеноз &#45;1, недостаточность&#45;0&#45;&gt;Пиковый градиент на АК д/о</title>\n<path fill=\"none\" stroke=\"#008bfb\" stroke-width=\"0.05\" d=\"M525.46,-249.79C577.95,-230.93 664.56,-199.8 720.78,-179.6\"/>\n<polygon fill=\"#008bfb\" stroke=\"#008bfb\" stroke-width=\"0.05\" points=\"721.99,-182.89 730.22,-176.21 719.62,-176.3 721.99,-182.89\"/>\n<text text-anchor=\"middle\" x=\"688.34\" y=\"-209.3\" font-family=\"Times,serif\" font-size=\"14.00\" fill=\"#008bfb\" fill-opacity=\"0.235294\">0.00</text>\n</g>\n<!-- ФК аортального клапана -->\n<g id=\"node5\" class=\"node\">\n<title>ФК аортального клапана</title>\n<ellipse fill=\"none\" stroke=\"black\" cx=\"129.34\" cy=\"-159\" rx=\"129.18\" ry=\"18\"/>\n<text text-anchor=\"middle\" x=\"129.34\" y=\"-155.3\" font-family=\"Times,serif\" font-size=\"14.00\">ФК аортального клапана</text>\n</g>\n<!-- Стеноз &#45;1, недостаточность&#45;0&#45;&gt;ФК аортального клапана -->\n<g id=\"edge4\" class=\"edge\">\n<title>Стеноз &#45;1, недостаточность&#45;0&#45;&gt;ФК аортального клапана</title>\n<path fill=\"none\" stroke=\"#008bfb\" stroke-width=\"0.05\" d=\"M427.79,-250.13C364.27,-230.95 257.55,-198.72 190.42,-178.45\"/>\n<polygon fill=\"#008bfb\" stroke=\"#008bfb\" stroke-width=\"0.05\" points=\"191.4,-175.09 180.82,-175.55 189.38,-181.79 191.4,-175.09\"/>\n<text text-anchor=\"middle\" x=\"373.34\" y=\"-209.3\" font-family=\"Times,serif\" font-size=\"14.00\" fill=\"#008bfb\" fill-opacity=\"0.235294\">0.00</text>\n</g>\n<!-- ППС Порок МК (Да/Нет &#45; 1/0) -->\n<g id=\"node6\" class=\"node\">\n<title>ППС Порок МК (Да/Нет &#45; 1/0)</title>\n<ellipse fill=\"none\" stroke=\"black\" cx=\"415.34\" cy=\"-159\" rx=\"152.17\" ry=\"18\"/>\n<text text-anchor=\"middle\" x=\"415.34\" y=\"-155.3\" font-family=\"Times,serif\" font-size=\"14.00\">ППС Порок МК (Да/Нет &#45; 1/0)</text>\n</g>\n<!-- Стеноз &#45;1, недостаточность&#45;0&#45;&gt;ППС Порок МК (Да/Нет &#45; 1/0) -->\n<g id=\"edge5\" class=\"edge\">\n<title>Стеноз &#45;1, недостаточность&#45;0&#45;&gt;ППС Порок МК (Да/Нет &#45; 1/0)</title>\n<path fill=\"none\" stroke=\"#008bfb\" stroke-width=\"0.05\" d=\"M451.14,-249.08C444.47,-244.02 437.98,-237.93 433.34,-231 424.66,-218.03 420.17,-201.18 417.84,-187.15\"/>\n<polygon fill=\"#008bfb\" stroke=\"#008bfb\" stroke-width=\"0.05\" points=\"421.29,-186.51 416.45,-177.08 414.35,-187.46 421.29,-186.51\"/>\n<text text-anchor=\"middle\" x=\"449.34\" y=\"-209.3\" font-family=\"Times,serif\" font-size=\"14.00\" fill=\"#008bfb\" fill-opacity=\"0.235294\">0.00</text>\n</g>\n<!-- Пиковый градиент на АК д/о&#45;&gt;DEATH -->\n<g id=\"edge6\" class=\"edge\">\n<title>Пиковый градиент на АК д/о&#45;&gt;DEATH</title>\n<path fill=\"none\" stroke=\"#008bfb\" stroke-width=\"0.24\" d=\"M838.91,-142.73C900.54,-128.04 996.71,-105.41 1080.34,-87 1150.82,-71.48 1168.01,-65.03 1239.34,-54 1340.38,-38.37 1459.39,-27.96 1526.74,-22.8\"/>\n<polygon fill=\"#008bfb\" stroke=\"#008bfb\" stroke-width=\"0.24\" points=\"1527.39,-26.26 1537.09,-22.01 1526.86,-19.28 1527.39,-26.26\"/>\n<text text-anchor=\"middle\" x=\"1096.34\" y=\"-101.3\" font-family=\"Times,serif\" font-size=\"14.00\" fill=\"#008bfb\" fill-opacity=\"0.262745\">0.01</text>\n</g>\n<!-- ФК аортального клапана&#45;&gt;DEATH -->\n<g id=\"edge7\" class=\"edge\">\n<title>ФК аортального клапана&#45;&gt;DEATH</title>\n<path fill=\"none\" stroke=\"#008bfb\" stroke-width=\"0.65\" d=\"M204,-144.23C290.29,-128.67 436.7,-103.4 563.34,-87 929.17,-39.63 1373.56,-24.32 1526,-20.26\"/>\n<polygon fill=\"#008bfb\" stroke=\"#008bfb\" stroke-width=\"0.65\" points=\"1526.13,-23.76 1536.04,-20 1525.95,-16.76 1526.13,-23.76\"/>\n<text text-anchor=\"middle\" x=\"579.34\" y=\"-101.3\" font-family=\"Times,serif\" font-size=\"14.00\" fill=\"#008bfb\" fill-opacity=\"0.325490\">0.02</text>\n</g>\n<!-- ППС Порок МК (Да/Нет &#45; 1/0)&#45;&gt;DEATH -->\n<g id=\"edge8\" class=\"edge\">\n<title>ППС Порок МК (Да/Нет &#45; 1/0)&#45;&gt;DEATH</title>\n<path fill=\"none\" stroke=\"#008bfb\" stroke-width=\"0.05\" d=\"M490.84,-143.34C568.74,-128.4 693.83,-104.94 802.34,-87 901.62,-70.58 926.26,-64.51 1026.34,-54 1209.16,-34.79 1427.12,-24.78 1526.34,-20.92\"/>\n<polygon fill=\"#008bfb\" stroke=\"#008bfb\" stroke-width=\"0.05\" points=\"1526.57,-24.41 1536.43,-20.53 1526.3,-17.42 1526.57,-24.41\"/>\n<text text-anchor=\"middle\" x=\"818.34\" y=\"-101.3\" font-family=\"Times,serif\" font-size=\"14.00\" fill=\"#008bfb\" fill-opacity=\"0.235294\">0.00</text>\n</g>\n<!-- Время ИК -->\n<g id=\"node7\" class=\"node\">\n<title>Время ИК</title>\n<ellipse fill=\"none\" stroke=\"black\" cx=\"827.34\" cy=\"-267\" rx=\"59.59\" ry=\"18\"/>\n<text text-anchor=\"middle\" x=\"827.34\" y=\"-263.3\" font-family=\"Times,serif\" font-size=\"14.00\">Время ИК</text>\n</g>\n<!-- Время ИК&#45;&gt;DEATH -->\n<g id=\"edge9\" class=\"edge\">\n<title>Время ИК&#45;&gt;DEATH</title>\n<path fill=\"none\" stroke=\"#008bfb\" stroke-width=\"0.17\" d=\"M880.78,-258.76C923.82,-252.54 985.78,-242.75 1039.34,-231 1098.32,-218.06 1112.1,-210.94 1170.34,-195 1199.66,-186.97 1217.88,-201.16 1236.34,-177 1260.67,-145.14 1204.94,-118.02 1230.34,-87 1236.23,-79.81 1385.22,-55.78 1394.34,-54 1440.48,-45.02 1493.13,-35.15 1530.61,-28.18\"/>\n<polygon fill=\"#008bfb\" stroke=\"#008bfb\" stroke-width=\"0.17\" points=\"1531.57,-31.56 1540.76,-26.3 1530.29,-24.68 1531.57,-31.56\"/>\n<text text-anchor=\"middle\" x=\"1259.34\" y=\"-155.3\" font-family=\"Times,serif\" font-size=\"14.00\" fill=\"#008bfb\" fill-opacity=\"0.250980\">0.00</text>\n</g>\n<!-- Время пережатия аорты -->\n<g id=\"node8\" class=\"node\">\n<title>Время пережатия аорты</title>\n<ellipse fill=\"none\" stroke=\"black\" cx=\"1098.34\" cy=\"-159\" rx=\"129.18\" ry=\"18\"/>\n<text text-anchor=\"middle\" x=\"1098.34\" y=\"-155.3\" font-family=\"Times,serif\" font-size=\"14.00\">Время пережатия аорты</text>\n</g>\n<!-- Время ИК&#45;&gt;Время пережатия аорты -->\n<g id=\"edge10\" class=\"edge\">\n<title>Время ИК&#45;&gt;Время пережатия аорты</title>\n<path fill=\"none\" stroke=\"#008bfb\" stroke-width=\"0.05\" d=\"M862.21,-252.36C909.28,-233.95 993.45,-201.03 1047.55,-179.87\"/>\n<polygon fill=\"#008bfb\" stroke=\"#008bfb\" stroke-width=\"0.05\" points=\"1048.91,-183.09 1056.95,-176.19 1046.36,-176.57 1048.91,-183.09\"/>\n<text text-anchor=\"middle\" x=\"1019.34\" y=\"-209.3\" font-family=\"Times,serif\" font-size=\"14.00\" fill=\"#008bfb\" fill-opacity=\"0.235294\">0.00</text>\n</g>\n<!-- Время пережатия аорты&#45;&gt;DEATH -->\n<g id=\"edge11\" class=\"edge\">\n<title>Время пережатия аорты&#45;&gt;DEATH</title>\n<path fill=\"none\" stroke=\"#008bfb\" stroke-width=\"0.05\" d=\"M1105.53,-140.93C1113.47,-124.33 1127.89,-99.8 1148.34,-87 1164.39,-76.95 1417.83,-41.26 1528.88,-26\"/>\n<polygon fill=\"#008bfb\" stroke=\"#008bfb\" stroke-width=\"0.05\" points=\"1529.42,-29.46 1538.85,-24.63 1528.47,-22.53 1529.42,-29.46\"/>\n<text text-anchor=\"middle\" x=\"1164.34\" y=\"-101.3\" font-family=\"Times,serif\" font-size=\"14.00\" fill=\"#008bfb\" fill-opacity=\"0.235294\">0.00</text>\n</g>\n<!-- Возраст, лет -->\n<g id=\"node9\" class=\"node\">\n<title>Возраст, лет</title>\n<ellipse fill=\"none\" stroke=\"black\" cx=\"940.34\" cy=\"-375\" rx=\"70.69\" ry=\"18\"/>\n<text text-anchor=\"middle\" x=\"940.34\" y=\"-371.3\" font-family=\"Times,serif\" font-size=\"14.00\">Возраст, лет</text>\n</g>\n<!-- Возраст, лет&#45;&gt;DEATH -->\n<g id=\"edge12\" class=\"edge\">\n<title>Возраст, лет&#45;&gt;DEATH</title>\n<path fill=\"none\" stroke=\"#008bfb\" stroke-width=\"0.05\" d=\"M968.5,-358.44C1047.93,-314.43 1268.73,-191.35 1279.34,-177 1303.76,-143.98 1271.81,-116.55 1300.34,-87 1300.64,-86.68 1421.91,-54.1 1422.34,-54 1459.02,-44.98 1500.75,-35.78 1532.11,-29.08\"/>\n<polygon fill=\"#008bfb\" stroke=\"#008bfb\" stroke-width=\"0.05\" points=\"1532.86,-32.5 1541.91,-26.99 1531.4,-25.65 1532.86,-32.5\"/>\n<text text-anchor=\"middle\" x=\"1270.34\" y=\"-209.3\" font-family=\"Times,serif\" font-size=\"14.00\" fill=\"#008bfb\" fill-opacity=\"0.235294\">0.00</text>\n</g>\n<!-- Возраст, лет&#45;&gt;Время ИК -->\n<g id=\"edge13\" class=\"edge\">\n<title>Возраст, лет&#45;&gt;Время ИК</title>\n<path fill=\"none\" stroke=\"#008bfb\" stroke-width=\"0.05\" d=\"M922.68,-357.44C903.78,-339.7 873.62,-311.41 852.29,-291.41\"/>\n<polygon fill=\"#008bfb\" stroke=\"#008bfb\" stroke-width=\"0.05\" points=\"854.56,-288.74 844.87,-284.45 849.77,-293.84 854.56,-288.74\"/>\n<text text-anchor=\"middle\" x=\"917.34\" y=\"-317.3\" font-family=\"Times,serif\" font-size=\"14.00\" fill=\"#008bfb\" fill-opacity=\"0.235294\">0.00</text>\n</g>\n<!-- POAF -->\n<g id=\"node10\" class=\"node\">\n<title>POAF</title>\n<ellipse fill=\"none\" stroke=\"black\" cx=\"1356.34\" cy=\"-105\" rx=\"37.09\" ry=\"18\"/>\n<text text-anchor=\"middle\" x=\"1356.34\" y=\"-101.3\" font-family=\"Times,serif\" font-size=\"14.00\">POAF</text>\n</g>\n<!-- POAF&#45;&gt;DEATH -->\n<g id=\"edge14\" class=\"edge\">\n<title>POAF&#45;&gt;DEATH</title>\n<path fill=\"none\" stroke=\"#008bfb\" stroke-width=\"0.05\" d=\"M1387.11,-94.87C1407.19,-88.52 1433.77,-79.35 1456.34,-69 1468.46,-63.44 1470.23,-59.6 1482.34,-54 1499.61,-46.01 1519.26,-38.67 1536.41,-32.8\"/>\n<polygon fill=\"#008bfb\" stroke=\"#008bfb\" stroke-width=\"0.05\" points=\"1537.81,-36.02 1546.17,-29.52 1535.58,-29.39 1537.81,-36.02\"/>\n<text text-anchor=\"middle\" x=\"1498.34\" y=\"-57.8\" font-family=\"Times,serif\" font-size=\"14.00\" fill=\"#008bfb\" fill-opacity=\"0.235294\">0.00</text>\n</g>\n<!-- НРС д/о &#160;(1&#45;есть,0&#45;нет) -->\n<g id=\"node11\" class=\"node\">\n<title>НРС д/о &#160;(1&#45;есть,0&#45;нет)</title>\n<ellipse fill=\"none\" stroke=\"black\" cx=\"1272.34\" cy=\"-321\" rx=\"117.78\" ry=\"18\"/>\n<text text-anchor=\"middle\" x=\"1272.34\" y=\"-317.3\" font-family=\"Times,serif\" font-size=\"14.00\">НРС д/о &#160;(1&#45;есть,0&#45;нет)</text>\n</g>\n<!-- НРС д/о &#160;(1&#45;есть,0&#45;нет)&#45;&gt;DEATH -->\n<g id=\"edge15\" class=\"edge\">\n<title>НРС д/о &#160;(1&#45;есть,0&#45;нет)&#45;&gt;DEATH</title>\n<path fill=\"none\" stroke=\"#008bfb\" stroke-width=\"0.05\" d=\"M1281.16,-302.82C1299.08,-267.78 1338.31,-190.23 1341.34,-177 1344.9,-161.4 1349.32,-154.87 1341.34,-141 1333.39,-127.19 1318.29,-136.81 1310.34,-123 1302.36,-109.13 1299.96,-99.18 1310.34,-87 1326.69,-67.81 1398.16,-76.15 1422.34,-69 1438.18,-64.32 1440.8,-59.59 1456.34,-54 1481.48,-44.96 1510.15,-36.73 1533.59,-30.53\"/>\n<polygon fill=\"#008bfb\" stroke=\"#008bfb\" stroke-width=\"0.05\" points=\"1534.49,-33.91 1543.29,-28 1532.73,-27.14 1534.49,-33.91\"/>\n<text text-anchor=\"middle\" x=\"1362.34\" y=\"-155.3\" font-family=\"Times,serif\" font-size=\"14.00\" fill=\"#008bfb\" fill-opacity=\"0.235294\">0.00</text>\n</g>\n<!-- НРС д/о &#160;(1&#45;есть,0&#45;нет)&#45;&gt;POAF -->\n<g id=\"edge16\" class=\"edge\">\n<title>НРС д/о &#160;(1&#45;есть,0&#45;нет)&#45;&gt;POAF</title>\n<path fill=\"none\" stroke=\"#008bfb\" stroke-width=\"0.05\" d=\"M1298.03,-303.36C1304.89,-298.07 1311.91,-291.81 1317.34,-285 1344.86,-250.49 1325.48,-223.32 1359.34,-195 1383.32,-174.94 1408.27,-201.77 1427.34,-177 1437.1,-164.32 1435.79,-154.59 1427.34,-141 1420.7,-130.33 1409.76,-122.82 1398.42,-117.57\"/>\n<polygon fill=\"#008bfb\" stroke=\"#008bfb\" stroke-width=\"0.05\" points=\"1399.47,-114.22 1388.89,-113.67 1396.82,-120.7 1399.47,-114.22\"/>\n<text text-anchor=\"middle\" x=\"1375.34\" y=\"-209.3\" font-family=\"Times,serif\" font-size=\"14.00\" fill=\"#008bfb\" fill-opacity=\"0.235294\">0.00</text>\n</g>\n<!-- ФП д/о -->\n<g id=\"node12\" class=\"node\">\n<title>ФП д/о</title>\n<ellipse fill=\"none\" stroke=\"black\" cx=\"1442.34\" cy=\"-213\" rx=\"42.49\" ry=\"18\"/>\n<text text-anchor=\"middle\" x=\"1442.34\" y=\"-209.3\" font-family=\"Times,serif\" font-size=\"14.00\">ФП д/о</text>\n</g>\n<!-- НРС д/о &#160;(1&#45;есть,0&#45;нет)&#45;&gt;ФП д/о -->\n<g id=\"edge17\" class=\"edge\">\n<title>НРС д/о &#160;(1&#45;есть,0&#45;нет)&#45;&gt;ФП д/о</title>\n<path fill=\"none\" stroke=\"#008bfb\" stroke-width=\"0.05\" d=\"M1316.14,-304.27C1329.13,-298.88 1343.15,-292.34 1355.34,-285 1378.31,-271.18 1401.7,-251.72 1418.44,-236.67\"/>\n<polygon fill=\"#008bfb\" stroke=\"#008bfb\" stroke-width=\"0.05\" points=\"1421.07,-239.01 1426.09,-229.68 1416.34,-233.84 1421.07,-239.01\"/>\n<text text-anchor=\"middle\" x=\"1418.34\" y=\"-263.3\" font-family=\"Times,serif\" font-size=\"14.00\" fill=\"#008bfb\" fill-opacity=\"0.235294\">0.00</text>\n</g>\n<!-- ФП д/о&#45;&gt;DEATH -->\n<g id=\"edge18\" class=\"edge\">\n<title>ФП д/о&#45;&gt;DEATH</title>\n<path fill=\"none\" stroke=\"#008bfb\" stroke-width=\"0.05\" d=\"M1471.83,-199.95C1481.41,-194.45 1490.95,-186.91 1496.34,-177 1503.98,-162.94 1501.26,-156.22 1496.34,-141 1493.3,-131.61 1486.37,-132.39 1483.34,-123 1478.42,-107.78 1475.36,-100.87 1483.34,-87 1491.29,-73.19 1501.08,-77.83 1514.34,-69 1527.53,-60.22 1541.6,-49.73 1553.35,-40.63\"/>\n<polygon fill=\"#008bfb\" stroke=\"#008bfb\" stroke-width=\"0.05\" points=\"1555.72,-43.21 1561.44,-34.29 1551.41,-37.7 1555.72,-43.21\"/>\n<text text-anchor=\"middle\" x=\"1499.34\" y=\"-101.3\" font-family=\"Times,serif\" font-size=\"14.00\" fill=\"#008bfb\" fill-opacity=\"0.235294\">0.00</text>\n</g>\n<!-- ФП д/о&#45;&gt;POAF -->\n<g id=\"edge19\" class=\"edge\">\n<title>ФП д/о&#45;&gt;POAF</title>\n<path fill=\"none\" stroke=\"#008bfb\" stroke-width=\"0.05\" d=\"M1451.18,-195.25C1457.99,-179.81 1464.52,-156.92 1453.34,-141 1446.66,-131.49 1421.82,-122.63 1398.95,-116.2\"/>\n<polygon fill=\"#008bfb\" stroke=\"#008bfb\" stroke-width=\"0.05\" points=\"1399.56,-112.74 1388.99,-113.51 1397.73,-119.5 1399.56,-112.74\"/>\n<text text-anchor=\"middle\" x=\"1476.34\" y=\"-155.3\" font-family=\"Times,serif\" font-size=\"14.00\" fill=\"#008bfb\" fill-opacity=\"0.235294\">0.00</text>\n</g>\n<!-- ИМТ -->\n<g id=\"node13\" class=\"node\">\n<title>ИМТ</title>\n<ellipse fill=\"none\" stroke=\"black\" cx=\"1045.34\" cy=\"-429\" rx=\"33.6\" ry=\"18\"/>\n<text text-anchor=\"middle\" x=\"1045.34\" y=\"-425.3\" font-family=\"Times,serif\" font-size=\"14.00\">ИМТ</text>\n</g>\n<!-- ИМТ&#45;&gt;КДР(исх) -->\n<g id=\"edge20\" class=\"edge\">\n<title>ИМТ&#45;&gt;КДР(исх)</title>\n<path fill=\"none\" stroke=\"#008bfb\" stroke-width=\"0.07\" d=\"M1072,-417.9C1080.03,-415.24 1088.95,-412.65 1097.34,-411 1206.65,-389.53 1238.09,-414.78 1347.34,-393 1396.96,-383.11 1406.96,-371.83 1455.34,-357 1479.74,-349.52 1507.01,-341.81 1529.84,-335.54\"/>\n<polygon fill=\"#008bfb\" stroke=\"#008bfb\" stroke-width=\"0.07\" points=\"1530.94,-338.87 1539.66,-332.85 1529.09,-332.11 1530.94,-338.87\"/>\n<text text-anchor=\"middle\" x=\"1471.34\" y=\"-371.3\" font-family=\"Times,serif\" font-size=\"14.00\" fill=\"#008bfb\" fill-opacity=\"0.235294\">0.00</text>\n</g>\n<!-- ИМТ&#45;&gt;DEATH -->\n<g id=\"edge21\" class=\"edge\">\n<title>ИМТ&#45;&gt;DEATH</title>\n<path fill=\"none\" stroke=\"#008bfb\" stroke-width=\"0.05\" d=\"M1072.29,-417.93C1080.26,-415.3 1089.06,-412.72 1097.34,-411 1180.82,-393.65 1207.43,-419.9 1288.34,-393 1317.49,-383.31 1318.46,-367.47 1347.34,-357 1398.45,-338.47 1426.44,-373.65 1468.34,-339 1515.15,-300.29 1559.28,-115.98 1574.63,-46.02\"/>\n<polygon fill=\"#008bfb\" stroke=\"#008bfb\" stroke-width=\"0.05\" points=\"1578.06,-46.7 1576.76,-36.18 1571.22,-45.22 1578.06,-46.7\"/>\n<text text-anchor=\"middle\" x=\"1552.34\" y=\"-209.3\" font-family=\"Times,serif\" font-size=\"14.00\" fill=\"#008bfb\" fill-opacity=\"0.235294\">0.00</text>\n</g>\n<!-- ИМТ&#45;&gt;POAF -->\n<g id=\"edge22\" class=\"edge\">\n<title>ИМТ&#45;&gt;POAF</title>\n<path fill=\"none\" stroke=\"#008bfb\" stroke-width=\"0.05\" d=\"M1055.23,-411.58C1071.41,-385.79 1105.76,-335.37 1145.34,-303 1158.88,-291.93 1165.27,-293.89 1180.34,-285 1254.55,-241.22 1293.11,-248.4 1341.34,-177 1349.99,-164.19 1353.8,-147.34 1355.41,-133.28\"/>\n<polygon fill=\"#008bfb\" stroke=\"#008bfb\" stroke-width=\"0.05\" points=\"1358.91,-133.43 1356.26,-123.18 1351.94,-132.85 1358.91,-133.43\"/>\n<text text-anchor=\"middle\" x=\"1270.34\" y=\"-263.3\" font-family=\"Times,serif\" font-size=\"14.00\" fill=\"#008bfb\" fill-opacity=\"0.235294\">0.00</text>\n</g>\n<!-- ИМТ&#45;&gt;НРС д/о &#160;(1&#45;есть,0&#45;нет) -->\n<g id=\"edge23\" class=\"edge\">\n<title>ИМТ&#45;&gt;НРС д/о &#160;(1&#45;есть,0&#45;нет)</title>\n<path fill=\"none\" stroke=\"#008bfb\" stroke-width=\"0.05\" d=\"M1070.06,-416.45C1107.98,-398.75 1181.05,-364.63 1228.21,-342.61\"/>\n<polygon fill=\"#008bfb\" stroke=\"#008bfb\" stroke-width=\"0.05\" points=\"1229.69,-345.78 1237.27,-338.37 1226.73,-339.43 1229.69,-345.78\"/>\n<text text-anchor=\"middle\" x=\"1209.34\" y=\"-371.3\" font-family=\"Times,serif\" font-size=\"14.00\" fill=\"#008bfb\" fill-opacity=\"0.235294\">0.00</text>\n</g>\n<!-- ИМТ&#45;&gt;ФП д/о -->\n<g id=\"edge24\" class=\"edge\">\n<title>ИМТ&#45;&gt;ФП д/о</title>\n<path fill=\"none\" stroke=\"#008bfb\" stroke-width=\"0.05\" d=\"M1072.34,-418.15C1080.3,-415.52 1089.1,-412.89 1097.34,-411 1155.05,-397.75 1172.09,-408.11 1229.34,-393 1270.99,-382.01 1278.19,-369.77 1319.34,-357 1354.15,-346.2 1368.92,-359.07 1399.34,-339 1424.05,-322.69 1428.44,-312.9 1438.34,-285 1443.26,-271.14 1444.46,-254.8 1444.35,-241.29\"/>\n<polygon fill=\"#008bfb\" stroke=\"#008bfb\" stroke-width=\"0.05\" points=\"1447.84,-241.05 1444.02,-231.17 1440.85,-241.28 1447.84,-241.05\"/>\n<text text-anchor=\"middle\" x=\"1448.34\" y=\"-317.3\" font-family=\"Times,serif\" font-size=\"14.00\" fill=\"#008bfb\" fill-opacity=\"0.235294\">0.00</text>\n</g>\n<!-- Перенесенный ИМ (Да/Нет &#45; 1/0) -->\n<g id=\"node14\" class=\"node\">\n<title>Перенесенный ИМ (Да/Нет &#45; 1/0)</title>\n<ellipse fill=\"none\" stroke=\"black\" cx=\"1844.34\" cy=\"-213\" rx=\"168.17\" ry=\"18\"/>\n<text text-anchor=\"middle\" x=\"1844.34\" y=\"-209.3\" font-family=\"Times,serif\" font-size=\"14.00\">Перенесенный ИМ (Да/Нет &#45; 1/0)</text>\n</g>\n<!-- Перенесенный ИМ (Да/Нет &#45; 1/0)&#45;&gt;DEATH -->\n<g id=\"edge25\" class=\"edge\">\n<title>Перенесенный ИМ (Да/Нет &#45; 1/0)&#45;&gt;DEATH</title>\n<path fill=\"none\" stroke=\"#008bfb\" stroke-width=\"1.97\" d=\"M1826.66,-194.99C1794.07,-164.22 1721.55,-98.41 1652.34,-54 1641.92,-47.31 1630.04,-41.04 1618.97,-35.71\"/>\n<polygon fill=\"#008bfb\" stroke=\"#008bfb\" stroke-width=\"1.97\" points=\"1620.45,-32.54 1609.91,-31.46 1617.48,-38.88 1620.45,-32.54\"/>\n<text text-anchor=\"middle\" x=\"1760.34\" y=\"-101.3\" font-family=\"Times,serif\" font-size=\"14.00\" fill=\"#008bfb\" fill-opacity=\"0.529412\">0.05</text>\n</g>\n<!-- ИБС (Да/Нет &#45; 1/0) -->\n<g id=\"node15\" class=\"node\">\n<title>ИБС (Да/Нет &#45; 1/0)</title>\n<ellipse fill=\"none\" stroke=\"black\" cx=\"1205.34\" cy=\"-429\" rx=\"98.58\" ry=\"18\"/>\n<text text-anchor=\"middle\" x=\"1205.34\" y=\"-425.3\" font-family=\"Times,serif\" font-size=\"14.00\">ИБС (Да/Нет &#45; 1/0)</text>\n</g>\n<!-- ИБС (Да/Нет &#45; 1/0)&#45;&gt;DEATH -->\n<g id=\"edge26\" class=\"edge\">\n<title>ИБС (Да/Нет &#45; 1/0)&#45;&gt;DEATH</title>\n<path fill=\"none\" stroke=\"#008bfb\" stroke-width=\"0.34\" d=\"M1300.52,-423.95C1369.6,-419.58 1456.19,-410.7 1487.34,-393 1504.96,-382.99 1497.8,-367.15 1515.34,-357 1565.06,-328.22 1605.65,-382.36 1643.34,-339 1653.83,-326.92 1644.66,-318.95 1643.34,-303 1637.32,-230.26 1631.3,-212.44 1616.34,-141 1608.16,-101.96 1606.66,-91.93 1594.34,-54 1593.43,-51.2 1592.41,-48.3 1591.34,-45.43\"/>\n<polygon fill=\"#008bfb\" stroke=\"#008bfb\" stroke-width=\"0.34\" points=\"1594.53,-43.97 1587.63,-35.92 1588,-46.51 1594.53,-43.97\"/>\n<text text-anchor=\"middle\" x=\"1651.34\" y=\"-209.3\" font-family=\"Times,serif\" font-size=\"14.00\" fill=\"#008bfb\" fill-opacity=\"0.278431\">0.01</text>\n</g>\n<!-- ИБС (Да/Нет &#45; 1/0)&#45;&gt;Перенесенный ИМ (Да/Нет &#45; 1/0) -->\n<g id=\"edge27\" class=\"edge\">\n<title>ИБС (Да/Нет &#45; 1/0)&#45;&gt;Перенесенный ИМ (Да/Нет &#45; 1/0)</title>\n<path fill=\"none\" stroke=\"#008bfb\" stroke-width=\"0.05\" d=\"M1299.28,-423.34C1375.98,-418.45 1477.63,-409.16 1515.34,-393 1538.25,-383.19 1535.62,-367.26 1558.34,-357 1606.69,-335.16 1633.73,-370.61 1676.34,-339 1711.94,-312.59 1685.41,-277.53 1719.34,-249 1727.53,-242.12 1736.98,-236.58 1746.94,-232.13\"/>\n<polygon fill=\"#008bfb\" stroke=\"#008bfb\" stroke-width=\"0.05\" points=\"1748.28,-235.37 1756.21,-228.35 1745.63,-228.89 1748.28,-235.37\"/>\n<text text-anchor=\"middle\" x=\"1713.34\" y=\"-317.3\" font-family=\"Times,serif\" font-size=\"14.00\" fill=\"#008bfb\" fill-opacity=\"0.235294\">0.00</text>\n</g>\n<!-- Hb до операции -->\n<g id=\"node16\" class=\"node\">\n<title>Hb до операции</title>\n<ellipse fill=\"none\" stroke=\"black\" cx=\"1653.34\" cy=\"-375\" rx=\"86.38\" ry=\"18\"/>\n<text text-anchor=\"middle\" x=\"1653.34\" y=\"-371.3\" font-family=\"Times,serif\" font-size=\"14.00\">Hb до операции</text>\n</g>\n<!-- Hb до операции&#45;&gt;DEATH -->\n<g id=\"edge28\" class=\"edge\">\n<title>Hb до операции&#45;&gt;DEATH</title>\n<path fill=\"none\" stroke=\"#008bfb\" stroke-width=\"5\" d=\"M1730.51,-366.82C1858.65,-351.62 2094.38,-307.78 2021.34,-195 1935.62,-62.65 1731.79,-29.82 1634.21,-21.68\"/>\n<polygon fill=\"#008bfb\" stroke=\"#008bfb\" stroke-width=\"5\" points=\"1634.29,-17.3 1623.98,-20.89 1633.61,-26.02 1634.29,-17.3\"/>\n<text text-anchor=\"middle\" x=\"2050.34\" y=\"-209.3\" font-family=\"Times,serif\" font-size=\"14.00\" fill=\"#008bfb\">0.14</text>\n</g>\n</g>\n</svg>\n",
      "text/plain": [
       "<graphviz.files.Source at 0x7fc4bc478f40>"
      ]
     },
     "metadata": {},
     "output_type": "display_data"
    },
    {
     "data": {
      "text/plain": [
       "<AGraph <Swig Object of type 'Agraph_t *' at 0x7fc4bc476f60>>"
      ]
     },
     "execution_count": 55,
     "metadata": {},
     "output_type": "execute_result"
    }
   ],
   "source": [
    "# Да-да, вот тут. Пациенты 1,2,3. \n",
    "\n",
    "cf_flow_adult = GraphExplainer(causal_graph, X_train, nruns=3).shap_values(X_train)\n",
    "sample_ind = [1, 2, 3]\n",
    "\n",
    "cf_flow_adult.draw(sample_ind, max_display=len(PREDICTORS))"
   ]
  }
 ],
 "metadata": {
  "kernelspec": {
   "display_name": "Python 3.10.5 ('test')",
   "language": "python",
   "name": "python3"
  },
  "language_info": {
   "codemirror_mode": {
    "name": "ipython",
    "version": 3
   },
   "file_extension": ".py",
   "mimetype": "text/x-python",
   "name": "python",
   "nbconvert_exporter": "python",
   "pygments_lexer": "ipython3",
   "version": "3.10.5"
  },
  "orig_nbformat": 4,
  "vscode": {
   "interpreter": {
    "hash": "b1370f23136b310abbbc84c3709aa97a5d2e49e594ae1bf9525da326449c827a"
   }
  }
 },
 "nbformat": 4,
 "nbformat_minor": 2
}
